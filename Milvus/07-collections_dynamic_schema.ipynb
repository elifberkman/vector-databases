{
 "cells": [
  {
   "cell_type": "markdown",
   "id": "4121d53f",
   "metadata": {},
   "source": [
    "# Dynamic Schema in Collections"
   ]
  },
  {
   "cell_type": "markdown",
   "id": "a6b5ff6d",
   "metadata": {},
   "source": [
    "Earlier, we had to declare the field schema of the Milvus collection, and the data inserted into the collection should strictly match the schema.\n",
    "\n",
    "But Milvus has added support for dynamic schema, which enables us to insert entities with new fields into the collection, but without modifying the schema. This gives us a lot of flexibility in terms of new or undefined fields in the collection schema."
   ]
  },
  {
   "cell_type": "code",
   "execution_count": 1,
   "id": "bf1fae07-5627-445c-8561-b7f803331e90",
   "metadata": {
    "editable": true,
    "slideshow": {
     "slide_type": ""
    },
    "tags": []
   },
   "outputs": [],
   "source": [
    "from pymilvus import Collection, FieldSchema, CollectionSchema, DataType, connections, utility\n",
    "import pandas as pd\n",
    "import random\n",
    "import json\n",
    "import numpy as np"
   ]
  },
  {
   "cell_type": "code",
   "execution_count": 2,
   "id": "5166e050-e7f2-46a3-ba45-cee8d0f3b59f",
   "metadata": {},
   "outputs": [],
   "source": [
    "connections.connect(\n",
    "  alias=\"default\",\n",
    "  host='localhost',\n",
    "  port='19530'\n",
    ")\n",
    "utility.drop_collection(\"dynamic_schema_example\")"
   ]
  },
  {
   "cell_type": "code",
   "execution_count": 3,
   "id": "a5e2b183-f8b8-4d57-8b23-40166a746478",
   "metadata": {},
   "outputs": [],
   "source": [
    "## Field Schema\n",
    "\n",
    "name = FieldSchema(\n",
    "  name=\"name\",\n",
    "  dtype=DataType.VARCHAR,\n",
    "  max_length=200,\n",
    ")\n",
    "id = FieldSchema(\n",
    "  name=\"id\",\n",
    "  dtype=DataType.INT64,\n",
    "  is_primary=True,\n",
    ")\n",
    "count = FieldSchema(\n",
    "  name=\"count\",\n",
    "  dtype=DataType.INT64,\n",
    ")\n",
    "vec = FieldSchema(\n",
    "  name=\"vector\",\n",
    "  dtype=DataType.FLOAT_VECTOR,\n",
    "  dim=64\n",
    ")\n"
   ]
  },
  {
   "cell_type": "markdown",
   "id": "cc6dd3f0",
   "metadata": {},
   "source": [
    "To enable dynamic schema in a milvus collection, we have to set the parameter called enable dynamic field as true while creating the collection."
   ]
  },
  {
   "cell_type": "code",
   "execution_count": 4,
   "id": "7c623229-1321-42d7-8c8b-02fff3779861",
   "metadata": {},
   "outputs": [],
   "source": [
    "# Collection schema\n",
    "\n",
    "collection_schema = CollectionSchema(\n",
    "  fields=[name, id, count, vec],\n",
    "  description=\"Dynamic Schema Example\",\n",
    "    enable_dynamic_field=True\n",
    ")"
   ]
  },
  {
   "cell_type": "code",
   "execution_count": 5,
   "id": "4e688c6d-ef72-4c50-a102-8ee0ff982851",
   "metadata": {},
   "outputs": [
    {
     "data": {
      "text/plain": [
       "['Album1', 'dynamic_schema_example']"
      ]
     },
     "execution_count": 5,
     "metadata": {},
     "output_type": "execute_result"
    }
   ],
   "source": [
    "# Create collection\n",
    "\n",
    "collection = Collection(\n",
    "    name=\"dynamic_schema_example\",\n",
    "    schema=collection_schema,\n",
    "    using='default')\n",
    "\n",
    "utility.list_collections()"
   ]
  },
  {
   "cell_type": "code",
   "execution_count": 6,
   "id": "25e72a26-88b1-4343-ab88-cc35c461dff8",
   "metadata": {},
   "outputs": [],
   "source": [
    "index_params = {\n",
    "  \"metric_type\":\"L2\",\n",
    "  \"index_type\":\"IVF_SQ8\",\n",
    "  \"params\":{\"nlist\":64},\n",
    "  \"index_name\": \"vector_index\"\n",
    "}\n",
    "\n",
    "collection.create_index(\n",
    "  field_name=\"vector\", \n",
    "  index_params=index_params\n",
    ")\n",
    "\n",
    "collection.load()"
   ]
  },
  {
   "cell_type": "markdown",
   "id": "f386b4ac",
   "metadata": {},
   "source": [
    "If you look at this closely, the inserted entities has a field called name, id, count and a field called vector and these four fields are already defined while creating the collection.\n",
    "\n",
    "But along with this we have a field called rand and this field is not declared in the field scheme of the collection.\n",
    "\n",
    "But since we have enabled the dynamic schema for this collection, we should be able to insert the data with new fields into the collection."
   ]
  },
  {
   "cell_type": "code",
   "execution_count": 7,
   "id": "89bfcf2a-0d11-4580-a5f8-7b926c22ad44",
   "metadata": {},
   "outputs": [],
   "source": [
    "# Data to be inserted\n",
    "\n",
    "data = [ {'name': 'a', 'id': 1, 'count': 10, 'vector': [random.uniform(0, 64) for x in range(64)], 'rand':1},\n",
    "        {'name': 'b', 'id': 2, 'count': 10, 'vector': [random.uniform(0, 64) for x in range(64)], 'rand':2},\n",
    "        {'name': 'c', 'id': 3, 'count': 10, 'vector': [random.uniform(0, 64) for x in range(64)], 'rand':3},\n",
    "        {'name': 'd', 'id': 4, 'count': 10, 'vector': [random.uniform(0, 64) for x in range(64)], 'rand':4}]"
   ]
  },
  {
   "cell_type": "markdown",
   "id": "a518eebc",
   "metadata": {},
   "source": [
    "So we are able to insert the data with new fields into this collection."
   ]
  },
  {
   "cell_type": "code",
   "execution_count": 8,
   "id": "a0a86dfc-2a38-418c-bee7-dfbf36a736ca",
   "metadata": {},
   "outputs": [
    {
     "data": {
      "text/plain": [
       "(insert count: 4, delete count: 0, upsert count: 0, timestamp: 450512990264623109, success count: 4, err count: 0)"
      ]
     },
     "execution_count": 8,
     "metadata": {},
     "output_type": "execute_result"
    }
   ],
   "source": [
    "# Insert the data in to the collection\n",
    "collection.insert(data)\n"
   ]
  },
  {
   "cell_type": "code",
   "execution_count": 10,
   "id": "05a28722-6967-4858-8c1c-ec004c469cd0",
   "metadata": {},
   "outputs": [
    {
     "data": {
      "text/plain": [
       "['Album1', 'dynamic_schema_example']"
      ]
     },
     "execution_count": 10,
     "metadata": {},
     "output_type": "execute_result"
    }
   ],
   "source": [
    "utility.list_collections()"
   ]
  },
  {
   "cell_type": "code",
   "execution_count": null,
   "id": "7ade61af-5b4c-46c8-8438-df10352668e2",
   "metadata": {},
   "outputs": [],
   "source": []
  }
 ],
 "metadata": {
  "kernelspec": {
   "display_name": "Python 3 (ipykernel)",
   "language": "python",
   "name": "python3"
  },
  "language_info": {
   "codemirror_mode": {
    "name": "ipython",
    "version": 3
   },
   "file_extension": ".py",
   "mimetype": "text/x-python",
   "name": "python",
   "nbconvert_exporter": "python",
   "pygments_lexer": "ipython3",
   "version": "3.9.13"
  }
 },
 "nbformat": 4,
 "nbformat_minor": 5
}
