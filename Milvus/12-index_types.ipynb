{
 "cells": [
  {
   "cell_type": "markdown",
   "id": "57a48eda",
   "metadata": {},
   "source": [
    "# Index Types"
   ]
  },
  {
   "cell_type": "markdown",
   "id": "6a3a9fb3",
   "metadata": {},
   "source": [
    "* FLAT"
   ]
  },
  {
   "cell_type": "code",
   "execution_count": 55,
   "id": "3d91f790-295b-4016-b7f2-f01a7f2b1f90",
   "metadata": {},
   "outputs": [],
   "source": [
    "from pymilvus import connections, CollectionSchema, FieldSchema, DataType, Collection, utility\n",
    "import random"
   ]
  },
  {
   "cell_type": "code",
   "execution_count": 56,
   "id": "fc932531-9608-4540-8996-2b5a03a2ebca",
   "metadata": {},
   "outputs": [],
   "source": [
    "connections.connect(\n",
    "  alias=\"default\",\n",
    "  host='localhost',\n",
    "  port='19530'\n",
    ")"
   ]
  },
  {
   "cell_type": "code",
   "execution_count": 57,
   "id": "8af34ab9",
   "metadata": {},
   "outputs": [
    {
     "data": {
      "text/plain": [
       "['Spam_Test', 'Album1', 'dynamic_schema_example', 'partition_key_collection']"
      ]
     },
     "execution_count": 57,
     "metadata": {},
     "output_type": "execute_result"
    }
   ],
   "source": [
    "utility.list_collections()"
   ]
  },
  {
   "cell_type": "markdown",
   "id": "4a4973d6",
   "metadata": {},
   "source": [
    "### Make a copy of Spam_Test"
   ]
  },
  {
   "cell_type": "code",
   "execution_count": 58,
   "id": "071582a8",
   "metadata": {},
   "outputs": [
    {
     "data": {
      "text/plain": [
       "True"
      ]
     },
     "execution_count": 58,
     "metadata": {},
     "output_type": "execute_result"
    }
   ],
   "source": [
    "utility.has_collection(\"Spam_Test\")"
   ]
  },
  {
   "cell_type": "code",
   "execution_count": 59,
   "id": "dd3b138a",
   "metadata": {},
   "outputs": [],
   "source": [
    "collection_spam = Collection(\"Spam_Test\")\n",
    "schema_spam = collection_spam.schema"
   ]
  },
  {
   "cell_type": "code",
   "execution_count": 60,
   "id": "3cee2baf",
   "metadata": {},
   "outputs": [
    {
     "name": "stdout",
     "output_type": "stream",
     "text": [
      "Index Name: IVF_FLAT\n",
      "Index Params: {'metric_type': 'L2', 'index_type': 'IVF_FLAT', 'params': {'nlist': 1024}, 'index_name': 'SMS_IVF_FLAT_TEST'}\n",
      "\n"
     ]
    }
   ],
   "source": [
    "indexes = collection_spam.indexes\n",
    "for index in indexes:\n",
    "    print(f\"Index Name: {index.params['index_type']}\")\n",
    "    print(f\"Index Params: {index.params}\")\n",
    "    print(\"\")"
   ]
  },
  {
   "cell_type": "code",
   "execution_count": 61,
   "id": "ceb0e7fe",
   "metadata": {},
   "outputs": [
    {
     "name": "stdout",
     "output_type": "stream",
     "text": [
      "Field Name: id\n",
      "Field Type: 5\n",
      "Field Description: \n",
      "Is Primary: True\n",
      "Auto ID: False\n",
      "\n",
      "Field Name: message\n",
      "Field Type: 21\n",
      "Field Description: \n",
      "Is Primary: False\n",
      "Auto ID: False\n",
      "\n",
      "Field Name: message_embeddings\n",
      "Field Type: 101\n",
      "Field Description: \n",
      "Is Primary: False\n",
      "Auto ID: False\n",
      "\n"
     ]
    }
   ],
   "source": [
    "for field in collection_spam.schema.fields:\n",
    "    print(f\"Field Name: {field.name}\")\n",
    "    print(f\"Field Type: {field.dtype}\")\n",
    "    print(f\"Field Description: {field.description}\")\n",
    "    print(f\"Is Primary: {field.is_primary}\")\n",
    "    print(f\"Auto ID: {field.auto_id}\")\n",
    "    print(\"\")"
   ]
  },
  {
   "cell_type": "code",
   "execution_count": 62,
   "id": "83b742b3",
   "metadata": {},
   "outputs": [],
   "source": [
    "collection_spam.load()"
   ]
  },
  {
   "cell_type": "code",
   "execution_count": 63,
   "id": "42530a35",
   "metadata": {},
   "outputs": [],
   "source": [
    "# Retrieve data from the original collection\n",
    "query_expr = \"id >= 1\"\n",
    "num_entities = collection_spam.num_entities\n",
    "data = collection_spam.query(expr=query_expr, output_fields=[\"id\", \"message\", \"message_embeddings\"], limit=num_entities)"
   ]
  },
  {
   "cell_type": "code",
   "execution_count": 64,
   "id": "9da16fb7",
   "metadata": {},
   "outputs": [],
   "source": [
    "# Extract fields from the query result\n",
    "ids = [item['id'] for item in data]\n",
    "messages = [item['message'] for item in data]\n",
    "message_embeddings = [item['message_embeddings'] for item in data]"
   ]
  },
  {
   "cell_type": "code",
   "execution_count": 66,
   "id": "22da4231",
   "metadata": {},
   "outputs": [],
   "source": [
    "# Create the new collection with the same schema\n",
    "collection_spam_copy = Collection(name=\"Spam_Test_Copy\", schema=schema_spam)"
   ]
  },
  {
   "cell_type": "code",
   "execution_count": 67,
   "id": "66c61cc1",
   "metadata": {},
   "outputs": [
    {
     "data": {
      "text/plain": [
       "(insert count: 5574, delete count: 0, upsert count: 0, timestamp: 450979404863766532, success count: 5574, err count: 0)"
      ]
     },
     "execution_count": 67,
     "metadata": {},
     "output_type": "execute_result"
    }
   ],
   "source": [
    "# Insert the data into the new collection\n",
    "insert_data = [ids, messages, message_embeddings]\n",
    "collection_spam_copy.insert(insert_data)"
   ]
  },
  {
   "cell_type": "code",
   "execution_count": 68,
   "id": "1b675e8a",
   "metadata": {},
   "outputs": [],
   "source": [
    "collection_spam.release()"
   ]
  },
  {
   "cell_type": "code",
   "execution_count": 69,
   "id": "4c60b3b2",
   "metadata": {},
   "outputs": [
    {
     "data": {
      "text/plain": [
       "0"
      ]
     },
     "execution_count": 69,
     "metadata": {},
     "output_type": "execute_result"
    }
   ],
   "source": [
    "indexes = collection_spam_copy.indexes\n",
    "for index in indexes:\n",
    "    print(f\"Index Name: {index.params['index_type']}\")\n",
    "    print(f\"Index Params: {index.params}\")\n",
    "    print(\"\")\n",
    "len(indexes)"
   ]
  },
  {
   "cell_type": "markdown",
   "id": "2b15be84",
   "metadata": {},
   "source": [
    "### Get test message vector"
   ]
  },
  {
   "cell_type": "code",
   "execution_count": 70,
   "id": "5ace0a9c",
   "metadata": {},
   "outputs": [],
   "source": [
    "# Read the file and load it into a list - 'claim prize' vector\n",
    "with open(\"test_message_vector.txt\", \"r\") as file:\n",
    "    test_message_vector = file.read().splitlines()\n",
    "\n",
    "test_message_vector = [float(i) for i in test_message_vector]"
   ]
  },
  {
   "cell_type": "markdown",
   "id": "2d65abbe",
   "metadata": {},
   "source": [
    "## Flat Index"
   ]
  },
  {
   "cell_type": "markdown",
   "id": "150c34e4",
   "metadata": {},
   "source": [
    "It is the simplest of all index types in Milvus.\n",
    "\n",
    "In fact, flat index does nothing on the vectors that are indexed and hence named as flat.\n",
    "\n",
    "With FLAT index, we will calculate the distance between the query vector and all the vectors that are part of the dataset. Based on the distance with query vector, we will find the top three nearest neighbors to the query vector."
   ]
  },
  {
   "cell_type": "markdown",
   "id": "47e13b89",
   "metadata": {},
   "source": [
    "For vector similarity search applications that require perfect accuracy and depend on relatively small (million-scale) datasets, the FLAT index is a good choice. FLAT does not compress vectors, and is the only index that can guarantee exact search results. Results from FLAT can also be used as a point of comparison for results produced by other indexes that have less than 100% recall.\n",
    "\n",
    "FLAT is accurate because it takes an exhaustive approach to search, which means for each query the target input is compared to every set of vectors in a dataset. This makes FLAT the slowest index on our list, and poorly suited for querying massive vector data. There are no parameters required for the FLAT index in Milvus, and using it does not need data training."
   ]
  },
  {
   "cell_type": "code",
   "execution_count": 71,
   "id": "a175a0d7",
   "metadata": {},
   "outputs": [],
   "source": [
    "# FLAT \n",
    "\n",
    "# Create Index\n",
    "index_params_flat = {\n",
    "    \"metric_type\": \"L2\",\n",
    "    \"index_type\": \"FLAT\",\n",
    "    \"params\": {},\n",
    "    \"index_name\": \"FLAT_EXAMPLE_INDEX\"\n",
    "}\n",
    "\n",
    "# Index on vector field\n",
    "collection_spam_copy.create_index(\n",
    "    field_name=\"message_embeddings\",\n",
    "    index_params=index_params_flat\n",
    ")\n",
    "\n",
    "# Vector similarity search\n",
    "search_params = {\"metric_type\": \"L2\", \"params\": {}}\n",
    "\n",
    "collection_spam_copy.load()\n",
    "\n",
    "results = collection_spam_copy.search(\n",
    "    data=[test_message_vector],\n",
    "    anns_field=\"message_embeddings\",\n",
    "    param=search_params,\n",
    "    limit=5,\n",
    "    expr=None,\n",
    "    output_fields=['message']\n",
    ")"
   ]
  },
  {
   "cell_type": "code",
   "execution_count": 72,
   "id": "9e69ca62",
   "metadata": {},
   "outputs": [
    {
     "name": "stdout",
     "output_type": "stream",
     "text": [
      "id: 1119, distance: 1.1402018070220947, entity: {'message': '449050000301 You have won a Â£2,000 price! To claim, call 09050000301.'}\n",
      "id: 577, distance: 1.1955623626708984, entity: {'message': 'You have won ?1,000 cash or a ?2,000 prize! To claim, call09050000327'}\n",
      "id: 4048, distance: 1.2085381746292114, entity: {'message': 'Win a Â£1000 cash prize or a prize worth Â£5000'}\n",
      "id: 651, distance: 1.23152494430542, entity: {'message': 'You have won ?1,000 cash or a ?2,000 prize! To claim, call09050000327. T&C: RSTM, SW7 3SS. 150ppm'}\n",
      "id: 9, distance: 1.2500566244125366, entity: {'message': 'WINNER!! As a valued network customer you have been selected to receivea Â£900 prize reward! To claim call 09061701461. Claim code KL341. Valid 12 hours only.'}\n"
     ]
    }
   ],
   "source": [
    "for result in results[0]:\n",
    "    print (result)"
   ]
  },
  {
   "cell_type": "code",
   "execution_count": 73,
   "id": "ebe9eaca",
   "metadata": {},
   "outputs": [
    {
     "name": "stdout",
     "output_type": "stream",
     "text": [
      "Index Name: FLAT\n",
      "Index Params: {'metric_type': 'L2', 'index_type': 'FLAT', 'params': {}, 'index_name': 'FLAT_EXAMPLE_INDEX'}\n",
      "\n"
     ]
    }
   ],
   "source": [
    "indexes = collection_spam_copy.indexes\n",
    "for index in indexes:\n",
    "    print(f\"Index Name: {index.params['index_type']}\")\n",
    "    print(f\"Index Params: {index.params}\")\n",
    "    print(\"\")"
   ]
  },
  {
   "cell_type": "code",
   "execution_count": 74,
   "id": "37f9127e",
   "metadata": {},
   "outputs": [
    {
     "data": {
      "text/plain": [
       "False"
      ]
     },
     "execution_count": 74,
     "metadata": {},
     "output_type": "execute_result"
    }
   ],
   "source": [
    "# Release the entire collection data\n",
    "collection_spam_copy.release()\n",
    "\n",
    "# Drop the index\n",
    "collection_spam_copy.drop_index()\n",
    "\n",
    "# Check the index\n",
    "collection_spam_copy.has_index() # False"
   ]
  },
  {
   "cell_type": "markdown",
   "id": "4bec9c37",
   "metadata": {},
   "source": [
    "## IVF_FLAT"
   ]
  },
  {
   "cell_type": "markdown",
   "id": "8a649c02",
   "metadata": {},
   "source": [
    "IVF_FLAT divides vector data into nlist cluster units, and then compares distances between the target input vector and the center of each cluster. Depending on the number of clusters the system is set to query (nprobe), similarity search results are returned based on comparisons between the target input and the vectors in the most similar cluster(s) only — drastically reducing query time.\n",
    "\n",
    "By adjusting nprobe, an ideal balance between accuracy and speed can be found for a given scenario. Results from the IVF_FLAT performance test demonstrate that query time increases sharply as both the number of target input vectors (nq), and the number of clusters to search (nprobe), increase.\n",
    "\n",
    "IVF_FLAT is the most basic IVF index, and the encoded data stored in each unit is consistent with the original data."
   ]
  },
  {
   "cell_type": "code",
   "execution_count": 75,
   "id": "e883b62b",
   "metadata": {},
   "outputs": [],
   "source": [
    "# IVF_FLAT \n",
    "\n",
    "# Create Index\n",
    "index_params_ivf_flat = {\n",
    "    \"metric_type\": \"L2\",\n",
    "    \"index_type\": \"IVF_FLAT\",\n",
    "    \"params\": {\"nlist\":1024},  # nlist: Number of cluster units\n",
    "    \"index_name\": \"IVF_FLAT_EXAMPLE_INDEX\"\n",
    "}\n",
    "\n",
    "# Index on vector field\n",
    "collection_spam_copy.create_index(\n",
    "    field_name=\"message_embeddings\",\n",
    "    index_params=index_params_ivf_flat\n",
    ")\n",
    "\n",
    "# Vector similarity search\n",
    "search_params = {\"metric_type\": \"L2\", \"params\": {\"nprobe\": 64}}  # nprobe: Number of units to query\n",
    "\n",
    "collection_spam_copy.load()\n",
    "\n",
    "results = collection_spam_copy.search(\n",
    "    data=[test_message_vector],\n",
    "    anns_field=\"message_embeddings\",\n",
    "    param=search_params,\n",
    "    limit=5,\n",
    "    expr=None,\n",
    "    output_fields=['message']\n",
    ")"
   ]
  },
  {
   "cell_type": "code",
   "execution_count": 76,
   "id": "68a8cf58",
   "metadata": {},
   "outputs": [
    {
     "name": "stdout",
     "output_type": "stream",
     "text": [
      "id: 1119, distance: 1.1402018070220947, entity: {'message': '449050000301 You have won a Â£2,000 price! To claim, call 09050000301.'}\n",
      "id: 577, distance: 1.1955623626708984, entity: {'message': 'You have won ?1,000 cash or a ?2,000 prize! To claim, call09050000327'}\n",
      "id: 4048, distance: 1.2085381746292114, entity: {'message': 'Win a Â£1000 cash prize or a prize worth Â£5000'}\n",
      "id: 651, distance: 1.23152494430542, entity: {'message': 'You have won ?1,000 cash or a ?2,000 prize! To claim, call09050000327. T&C: RSTM, SW7 3SS. 150ppm'}\n",
      "id: 9, distance: 1.2500566244125366, entity: {'message': 'WINNER!! As a valued network customer you have been selected to receivea Â£900 prize reward! To claim call 09061701461. Claim code KL341. Valid 12 hours only.'}\n"
     ]
    }
   ],
   "source": [
    "for result in results[0]:\n",
    "    print (result)"
   ]
  },
  {
   "cell_type": "code",
   "execution_count": 77,
   "id": "605f6167",
   "metadata": {},
   "outputs": [
    {
     "name": "stdout",
     "output_type": "stream",
     "text": [
      "Index Name: IVF_FLAT\n",
      "Index Params: {'metric_type': 'L2', 'index_type': 'IVF_FLAT', 'params': {'nlist': 1024}, 'index_name': 'IVF_FLAT_EXAMPLE_INDEX'}\n",
      "\n"
     ]
    }
   ],
   "source": [
    "indexes = collection_spam_copy.indexes\n",
    "for index in indexes:\n",
    "    print(f\"Index Name: {index.params['index_type']}\")\n",
    "    print(f\"Index Params: {index.params}\")\n",
    "    print(\"\")"
   ]
  },
  {
   "cell_type": "code",
   "execution_count": 78,
   "id": "2cfac527",
   "metadata": {},
   "outputs": [
    {
     "data": {
      "text/plain": [
       "False"
      ]
     },
     "execution_count": 78,
     "metadata": {},
     "output_type": "execute_result"
    }
   ],
   "source": [
    "# Release the entire collection data\n",
    "collection_spam_copy.release()\n",
    "\n",
    "# Drop the index\n",
    "collection_spam_copy.drop_index()\n",
    "\n",
    "# Check the index\n",
    "collection_spam_copy.has_index() # False"
   ]
  },
  {
   "cell_type": "markdown",
   "id": "0f953df3",
   "metadata": {},
   "source": [
    "## IVF_SQ8"
   ]
  },
  {
   "cell_type": "markdown",
   "id": "c9f4137c",
   "metadata": {},
   "source": [
    "IVF_FLAT does not perform any compression, so the index files it produces are roughly the same size as the original, raw non-indexed vector data. For example, if the original 1B SIFT dataset is 476 GB, its IVF_FLAT index files will be slightly smaller (~470 GB). Loading all the index files into memory will consume 470 GB of storage.\n",
    "\n",
    "When disk, CPU, or GPU memory resources are limited, IVF_SQ8 is a better option than IVF_FLAT. This index type can convert each FLOAT (4 bytes) to UINT8 (1 byte) by performing Scalar Quantization (SQ). This reduces disk, CPU, and GPU memory consumption by 70–75%. For the 1B SIFT dataset, the IVF_SQ8 index files require just 140 GB of storage."
   ]
  },
  {
   "cell_type": "code",
   "execution_count": 79,
   "id": "81b8a2b5",
   "metadata": {},
   "outputs": [],
   "source": [
    "# IVF_SQ8 \n",
    "\n",
    "# Create Index\n",
    "index_params_ivf_sq8 = {\n",
    "    \"metric_type\": \"L2\",\n",
    "    \"index_type\": \"IVF_SQ8\",\n",
    "    \"params\": {\"nlist\":1024},  # nlist: Number of cluster units\n",
    "    \"index_name\": \"IVF_SQ8_EXAMPLE_INDEX\"\n",
    "}\n",
    "\n",
    "# Index on vector field\n",
    "collection_spam_copy.create_index(\n",
    "    field_name=\"message_embeddings\",\n",
    "    index_params=index_params_ivf_sq8\n",
    ")\n",
    "\n",
    "# Vector similarity search\n",
    "search_params = {\"metric_type\": \"L2\", \"params\": {\"nprobe\": 64}}  # nprobe: Number of units to query\n",
    "\n",
    "collection_spam_copy.load()\n",
    "\n",
    "results = collection_spam_copy.search(\n",
    "    data=[test_message_vector],\n",
    "    anns_field=\"message_embeddings\",\n",
    "    param=search_params,\n",
    "    limit=5,\n",
    "    expr=None,\n",
    "    output_fields=['message']\n",
    ")"
   ]
  },
  {
   "cell_type": "code",
   "execution_count": 80,
   "id": "1519438b",
   "metadata": {},
   "outputs": [
    {
     "name": "stdout",
     "output_type": "stream",
     "text": [
      "id: 1119, distance: 1.1402018070220947, entity: {'message': '449050000301 You have won a Â£2,000 price! To claim, call 09050000301.'}\n",
      "id: 577, distance: 1.1955623626708984, entity: {'message': 'You have won ?1,000 cash or a ?2,000 prize! To claim, call09050000327'}\n",
      "id: 4048, distance: 1.2085381746292114, entity: {'message': 'Win a Â£1000 cash prize or a prize worth Â£5000'}\n",
      "id: 651, distance: 1.23152494430542, entity: {'message': 'You have won ?1,000 cash or a ?2,000 prize! To claim, call09050000327. T&C: RSTM, SW7 3SS. 150ppm'}\n",
      "id: 9, distance: 1.2500566244125366, entity: {'message': 'WINNER!! As a valued network customer you have been selected to receivea Â£900 prize reward! To claim call 09061701461. Claim code KL341. Valid 12 hours only.'}\n"
     ]
    }
   ],
   "source": [
    "for result in results[0]:\n",
    "    print (result)"
   ]
  },
  {
   "cell_type": "code",
   "execution_count": 81,
   "id": "d74f3009-655c-4872-b32a-1163aaf9d2bc",
   "metadata": {},
   "outputs": [
    {
     "name": "stdout",
     "output_type": "stream",
     "text": [
      "Index Name: IVF_SQ8\n",
      "Index Params: {'metric_type': 'L2', 'index_type': 'IVF_SQ8', 'params': {'nlist': 1024}, 'index_name': 'IVF_SQ8_EXAMPLE_INDEX'}\n",
      "\n"
     ]
    }
   ],
   "source": [
    "indexes = collection_spam_copy.indexes\n",
    "for index in indexes:\n",
    "    print(f\"Index Name: {index.params['index_type']}\")\n",
    "    print(f\"Index Params: {index.params}\")\n",
    "    print(\"\")"
   ]
  },
  {
   "cell_type": "code",
   "execution_count": 83,
   "id": "f5fefdf5",
   "metadata": {},
   "outputs": [
    {
     "data": {
      "text/plain": [
       "False"
      ]
     },
     "execution_count": 83,
     "metadata": {},
     "output_type": "execute_result"
    }
   ],
   "source": [
    "# Release the entire collection data\n",
    "collection_spam_copy.release()\n",
    "\n",
    "# Drop the index\n",
    "collection_spam_copy.drop_index()\n",
    "\n",
    "# Check the index\n",
    "collection_spam_copy.has_index() # False"
   ]
  },
  {
   "cell_type": "markdown",
   "id": "6e4b7a3b",
   "metadata": {},
   "source": [
    "## IVF_PQ"
   ]
  },
  {
   "cell_type": "markdown",
   "id": "e06e13d3",
   "metadata": {},
   "source": [
    "PQ (Product Quantization) uniformly decomposes the original high-dimensional vector space into Cartesian products of m low-dimensional vector spaces, and then quantizes the decomposed low-dimensional vector spaces. Instead of calculating the distances between the target vector and the center of all the units, product quantization enables the calculation of distances between the target vector and the clustering center of each low-dimensional space and greatly reduces the time complexity and space complexity of the algorithm.\n",
    "\n",
    "IVF_PQ performs IVF index clustering before quantizing the product of vectors. Its index file is even smaller than IVF_SQ8, but it also causes a loss of accuracy during searching vectors."
   ]
  },
  {
   "cell_type": "code",
   "execution_count": 84,
   "id": "827390de",
   "metadata": {},
   "outputs": [],
   "source": [
    "# IVF_PQ\n",
    "\n",
    "# Create Index\n",
    "index_params_ivf_pq = {\n",
    "    \"metric_type\": \"L2\",\n",
    "    \"index_type\": \"IVF_PQ\",\n",
    "    \"params\": {\"nlist\":1024, \"m\":2, \"nbits\": 16},  # nlist: Number of cluster units, m:Number of factors of product quantization, nbits: Number of bits in which each low-dimensional vector is stored.\n",
    "    \"index_name\": \"IVF_PQ_EXAMPLE_INDEX\"\n",
    "}\n",
    "\n",
    "# Index on vector field\n",
    "collection_spam_copy.create_index(\n",
    "    field_name=\"message_embeddings\",\n",
    "    index_params=index_params_ivf_pq\n",
    ")\n",
    "\n",
    "# Vector similarity search\n",
    "search_params = {\"metric_type\": \"L2\", \"params\": {\"nprobe\": 64}}  # nprobe: Number of units to query\n",
    "\n",
    "collection_spam_copy.load()\n",
    "\n",
    "results = collection_spam_copy.search(\n",
    "    data=[test_message_vector],\n",
    "    anns_field=\"message_embeddings\",\n",
    "    param=search_params,\n",
    "    limit=5,\n",
    "    expr=None,\n",
    "    output_fields=['message']\n",
    ")"
   ]
  },
  {
   "cell_type": "code",
   "execution_count": 85,
   "id": "c70ae87d",
   "metadata": {},
   "outputs": [
    {
     "name": "stdout",
     "output_type": "stream",
     "text": [
      "id: 1119, distance: 1.1402018070220947, entity: {'message': '449050000301 You have won a Â£2,000 price! To claim, call 09050000301.'}\n",
      "id: 577, distance: 1.1955623626708984, entity: {'message': 'You have won ?1,000 cash or a ?2,000 prize! To claim, call09050000327'}\n",
      "id: 4048, distance: 1.2085381746292114, entity: {'message': 'Win a Â£1000 cash prize or a prize worth Â£5000'}\n",
      "id: 651, distance: 1.23152494430542, entity: {'message': 'You have won ?1,000 cash or a ?2,000 prize! To claim, call09050000327. T&C: RSTM, SW7 3SS. 150ppm'}\n",
      "id: 9, distance: 1.2500566244125366, entity: {'message': 'WINNER!! As a valued network customer you have been selected to receivea Â£900 prize reward! To claim call 09061701461. Claim code KL341. Valid 12 hours only.'}\n"
     ]
    }
   ],
   "source": [
    "for result in results[0]:\n",
    "    print (result)"
   ]
  },
  {
   "cell_type": "code",
   "execution_count": 86,
   "id": "90aa42c0",
   "metadata": {},
   "outputs": [
    {
     "name": "stdout",
     "output_type": "stream",
     "text": [
      "Index Name: IVF_PQ\n",
      "Index Params: {'metric_type': 'L2', 'index_type': 'IVF_PQ', 'params': {'nlist': 1024, 'm': 2, 'nbits': 16}, 'index_name': 'IVF_PQ_EXAMPLE_INDEX'}\n",
      "\n"
     ]
    }
   ],
   "source": [
    "indexes = collection_spam_copy.indexes\n",
    "for index in indexes:\n",
    "    print(f\"Index Name: {index.params['index_type']}\")\n",
    "    print(f\"Index Params: {index.params}\")\n",
    "    print(\"\")"
   ]
  },
  {
   "cell_type": "code",
   "execution_count": 87,
   "id": "d7236dea",
   "metadata": {},
   "outputs": [
    {
     "data": {
      "text/plain": [
       "False"
      ]
     },
     "execution_count": 87,
     "metadata": {},
     "output_type": "execute_result"
    }
   ],
   "source": [
    "# Release the entire collection data\n",
    "collection_spam_copy.release()\n",
    "\n",
    "# Drop the index\n",
    "collection_spam_copy.drop_index()\n",
    "\n",
    "# Check the index\n",
    "collection_spam_copy.has_index() # False"
   ]
  },
  {
   "cell_type": "markdown",
   "id": "458aeb8b",
   "metadata": {},
   "source": [
    "## HNSW (Hierarchical Navigable Small World Graph)"
   ]
  },
  {
   "cell_type": "markdown",
   "id": "7f8422be",
   "metadata": {},
   "source": [
    "HNSW (Hierarchical Navigable Small World Graph) is a graph-based indexing algorithm. It builds a multi-layer navigation structure for an image according to certain rules. In this structure, the upper layers are more sparse and the distances between nodes are farther; the lower layers are denser and the distances between nodes are closer. The search starts from the uppermost layer, finds the node closest to the target in this layer, and then enters the next layer to begin another search. After multiple iterations, it can quickly approach the target position.\n",
    "\n",
    "In order to improve performance, HNSW limits the maximum degree of nodes on each layer of the graph to M. In addition, you can use efConstruction (when building index) or ef (when searching targets) to specify a search range."
   ]
  },
  {
   "cell_type": "code",
   "execution_count": 88,
   "id": "d2c0d808",
   "metadata": {},
   "outputs": [],
   "source": [
    "# HNSW\n",
    "\n",
    "# Create Index\n",
    "index_params_hnsw = {\n",
    "    \"metric_type\": \"L2\",\n",
    "    \"index_type\": \"HNSW\",\n",
    "    \"params\": {\"M\":32, \"efConstruction\":16},  # M: tha maximum number of outgoing connections in the graph. ef_construction: controls index search speed/build speed tradeoff. Increasing the efConstruction parameter may enhance index quality, but it also tends to lengthen the indexing time.\n",
    "    \"index_name\": \"IVF_PQ_EXAMPLE_INDEX\"\n",
    "}\n",
    "\n",
    "# Index on vector field\n",
    "collection_spam_copy.create_index(\n",
    "    field_name=\"message_embeddings\",\n",
    "    index_params=index_params_hnsw\n",
    ")\n",
    "\n",
    "# Vector similarity search\n",
    "search_params = {\"metric_type\": \"L2\", \"params\": {\"ef\": 4}}  # ef: Parameter controlling query time/accuracy trade-off. Higher ef leads to more accurate but slower search.\n",
    "\n",
    "collection_spam_copy.load()\n",
    "\n",
    "results = collection_spam_copy.search(\n",
    "    data=[test_message_vector],\n",
    "    anns_field=\"message_embeddings\",\n",
    "    param=search_params,\n",
    "    limit=5,\n",
    "    expr=None,\n",
    "    output_fields=['message']\n",
    ")"
   ]
  },
  {
   "cell_type": "code",
   "execution_count": 89,
   "id": "0dc27235",
   "metadata": {},
   "outputs": [
    {
     "name": "stdout",
     "output_type": "stream",
     "text": [
      "id: 1119, distance: 1.1402018070220947, entity: {'message': '449050000301 You have won a Â£2,000 price! To claim, call 09050000301.'}\n",
      "id: 577, distance: 1.1955623626708984, entity: {'message': 'You have won ?1,000 cash or a ?2,000 prize! To claim, call09050000327'}\n",
      "id: 4048, distance: 1.2085381746292114, entity: {'message': 'Win a Â£1000 cash prize or a prize worth Â£5000'}\n",
      "id: 651, distance: 1.23152494430542, entity: {'message': 'You have won ?1,000 cash or a ?2,000 prize! To claim, call09050000327. T&C: RSTM, SW7 3SS. 150ppm'}\n",
      "id: 9, distance: 1.2500566244125366, entity: {'message': 'WINNER!! As a valued network customer you have been selected to receivea Â£900 prize reward! To claim call 09061701461. Claim code KL341. Valid 12 hours only.'}\n"
     ]
    }
   ],
   "source": [
    "for result in results[0]:\n",
    "    print (result)"
   ]
  },
  {
   "cell_type": "code",
   "execution_count": 90,
   "id": "caaf5e29",
   "metadata": {},
   "outputs": [
    {
     "name": "stdout",
     "output_type": "stream",
     "text": [
      "Index Name: HNSW\n",
      "Index Params: {'metric_type': 'L2', 'index_type': 'HNSW', 'params': {'M': 32, 'efConstruction': 16}, 'index_name': 'IVF_PQ_EXAMPLE_INDEX'}\n",
      "\n"
     ]
    }
   ],
   "source": [
    "indexes = collection_spam_copy.indexes\n",
    "for index in indexes:\n",
    "    print(f\"Index Name: {index.params['index_type']}\")\n",
    "    print(f\"Index Params: {index.params}\")\n",
    "    print(\"\")"
   ]
  },
  {
   "cell_type": "code",
   "execution_count": 91,
   "id": "01eef5bc",
   "metadata": {},
   "outputs": [
    {
     "data": {
      "text/plain": [
       "False"
      ]
     },
     "execution_count": 91,
     "metadata": {},
     "output_type": "execute_result"
    }
   ],
   "source": [
    "# Release the entire collection data\n",
    "collection_spam_copy.release()\n",
    "\n",
    "# Drop the index\n",
    "collection_spam_copy.drop_index()\n",
    "\n",
    "# Check the index\n",
    "collection_spam_copy.has_index() # False"
   ]
  },
  {
   "cell_type": "code",
   "execution_count": null,
   "id": "1315649a",
   "metadata": {},
   "outputs": [],
   "source": []
  }
 ],
 "metadata": {
  "kernelspec": {
   "display_name": "Python 3 (ipykernel)",
   "language": "python",
   "name": "python3"
  },
  "language_info": {
   "codemirror_mode": {
    "name": "ipython",
    "version": 3
   },
   "file_extension": ".py",
   "mimetype": "text/x-python",
   "name": "python",
   "nbconvert_exporter": "python",
   "pygments_lexer": "ipython3",
   "version": "3.9.13"
  }
 },
 "nbformat": 4,
 "nbformat_minor": 5
}
