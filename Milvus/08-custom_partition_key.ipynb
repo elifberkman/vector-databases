{
 "cells": [
  {
   "cell_type": "markdown",
   "id": "fdc587b7",
   "metadata": {},
   "source": [
    "# Partition Key"
   ]
  },
  {
   "cell_type": "markdown",
   "id": "c7c722ae",
   "metadata": {},
   "source": [
    "WMilvus collection can have one or more partitions, which in turn contains one or more data segments.\n",
    "\n",
    "In Milvus, there can be up to 4096 partitions per collection.\n",
    "\n",
    "We can create, list and delete the partitions manually.\n",
    "\n",
    "Milvus has added the ability to automatically create partitions based on the hashed values of a specific field in a collection. This helps us to have Milvus automatically manage the partitions and also helps us to search quickly within the collection. A partition key is a field in the collection whose values are used to create and define the partitions in a milvus collection.\n",
    "\n",
    "https://milvus.io/docs/use-partition-key.md#Use-Partition-Key"
   ]
  },
  {
   "cell_type": "code",
   "execution_count": 109,
   "id": "6ba50fb4-55e9-4f13-bb28-b7dd4948c8c1",
   "metadata": {},
   "outputs": [],
   "source": [
    "from pymilvus import Collection, FieldSchema, CollectionSchema, DataType, connections, utility\n",
    "import random\n",
    "import string"
   ]
  },
  {
   "cell_type": "code",
   "execution_count": 110,
   "id": "acc1be6e-2483-4b13-9aeb-3f3722b0ac27",
   "metadata": {},
   "outputs": [],
   "source": [
    "connections.connect(\n",
    "  alias=\"default\",\n",
    "  host='localhost',\n",
    "  port='19530'\n",
    ")\n",
    "utility.drop_collection(\"partition_key_collection\")"
   ]
  },
  {
   "cell_type": "code",
   "execution_count": 111,
   "id": "f2dabc3b-24e1-4a21-89c9-225f98928853",
   "metadata": {},
   "outputs": [
    {
     "data": {
      "text/plain": [
       "['dynamic_schema_example', 'Album1', 'partition_key_collection']"
      ]
     },
     "execution_count": 111,
     "metadata": {},
     "output_type": "execute_result"
    }
   ],
   "source": [
    "## Field Schema\n",
    "song_name = FieldSchema(\n",
    "  name=\"song_name\",\n",
    "  dtype=DataType.VARCHAR,\n",
    "  max_length=200,\n",
    ")\n",
    "song_id = FieldSchema(\n",
    "  name=\"song_id\",\n",
    "  dtype=DataType.INT64,\n",
    "  is_primary=True,\n",
    ")\n",
    "listen_count = FieldSchema(\n",
    "  name=\"listen_count\",\n",
    "  dtype=DataType.INT64,\n",
    ")\n",
    "song_vec = FieldSchema(\n",
    "  name=\"song_vec\",\n",
    "  dtype=DataType.FLOAT_VECTOR,\n",
    "  dim=2\n",
    ")\n",
    "language = FieldSchema(\n",
    "  name=\"language\",\n",
    "  dtype=DataType.VARCHAR,\n",
    "  max_length=64,\n",
    "  is_partition_key=True\n",
    ")\n",
    "\n",
    "# Collection schema\n",
    "collection_schema = CollectionSchema(\n",
    "  fields=[song_name, song_id, listen_count, song_vec, language],\n",
    "  description=\"Album Songs\"\n",
    ")\n",
    "\n",
    "# Create collection\n",
    "collection = Collection(\n",
    "    name=\"partition_key_collection\",\n",
    "    schema=collection_schema,\n",
    "    partition_key_field=\"language\",\n",
    "    using='default')\n",
    "\n",
    "\n",
    "utility.list_collections()"
   ]
  },
  {
   "cell_type": "markdown",
   "id": "7c043c6b",
   "metadata": {},
   "source": [
    "If you notice carefully, there is an additional setting in this field schema called is_partition_key which is set to true. So this particular field will be the partition key for the schema.\n",
    "\n",
    "Note that while creating the collection, we have an additional parameter called partition_key_field and the value for this is language, which is the partition key that we had defined earlier."
   ]
  },
  {
   "cell_type": "code",
   "execution_count": 112,
   "id": "0f518e40",
   "metadata": {},
   "outputs": [],
   "source": [
    "# Prepare data to be inserted\n",
    "num_entities=100\n",
    "data = [\n",
    "    [\"song\"+str(i+1) for i in range(num_entities)],  # song_name\n",
    "    [i+1 for i in range(num_entities)],  # song_id\n",
    "    [random.randint(50,500) for _ in range(num_entities)],  # listen_count\n",
    "    [[random.random(), random.random()] for _ in range(num_entities)],  # song_vec\n",
    "    [random.choice([\"english\", \"turkish\", \"french\"]) for _ in range(num_entities)]  # language\n",
    "]"
   ]
  },
  {
   "cell_type": "code",
   "execution_count": 113,
   "id": "b6f2f80f",
   "metadata": {},
   "outputs": [
    {
     "data": {
      "text/plain": [
       "(insert count: 100, delete count: 0, upsert count: 0, timestamp: 450514377014247429, success count: 100, err count: 0)"
      ]
     },
     "execution_count": 113,
     "metadata": {},
     "output_type": "execute_result"
    }
   ],
   "source": [
    "# Insert sample data\n",
    "collection.insert(data)"
   ]
  },
  {
   "cell_type": "code",
   "execution_count": 114,
   "id": "d8c3a1bb",
   "metadata": {},
   "outputs": [
    {
     "data": {
      "text/plain": [
       "Status(code=0, message=)"
      ]
     },
     "execution_count": 114,
     "metadata": {},
     "output_type": "execute_result"
    }
   ],
   "source": [
    "# Create an index for the collection\n",
    "index_params = {\n",
    "    \"index_type\": \"IVF_FLAT\",\n",
    "    \"params\": {\"nlist\": 128},\n",
    "    \"metric_type\": \"L2\"\n",
    "}\n",
    "\n",
    "collection.create_index(field_name=\"song_vec\", index_params=index_params)"
   ]
  },
  {
   "cell_type": "code",
   "execution_count": 115,
   "id": "34c2b163",
   "metadata": {},
   "outputs": [],
   "source": [
    "# Load the collection into memory\n",
    "collection.load()"
   ]
  },
  {
   "cell_type": "markdown",
   "id": "ac09dc07",
   "metadata": {},
   "source": [
    "By filtering the data based on the partition key, we have to use the search method within the collection object, and for the expression, we will have to specify the expression with the partition key name and the matching value.\n",
    "\n",
    "In this example, we will filter the results where the partition key value is English and the partition key is language field."
   ]
  },
  {
   "cell_type": "code",
   "execution_count": 116,
   "id": "8e47f70d-3aea-4f40-878f-fd2a3503004e",
   "metadata": {},
   "outputs": [],
   "source": [
    "## Vector Similarity Search\n",
    "results = collection.search(\n",
    "\tdata=[[0.1, 0.2]], \n",
    "\tanns_field=\"song_vec\", \n",
    "\tparam={\"metric_type\": \"L2\", \"params\": {\"search_k\": 64}},\n",
    "\tlimit=5, \n",
    "\texpr='language==\"english\"', # Limit the search for a partition key\n",
    "\toutput_fields=['song_name']\n",
    ")"
   ]
  },
  {
   "cell_type": "markdown",
   "id": "d7bc514e",
   "metadata": {},
   "source": [
    "Note that special care must be taken to ensure that the partition key must not result in too many partitions, which could go beyond the limit."
   ]
  },
  {
   "cell_type": "code",
   "execution_count": 118,
   "id": "fa8d417e",
   "metadata": {},
   "outputs": [
    {
     "name": "stdout",
     "output_type": "stream",
     "text": [
      "id: 20, distance: 0.017796462401747704, entity: {'song_name': 'song20'}\n",
      "id: 31, distance: 0.028050808236002922, entity: {'song_name': 'song31'}\n",
      "id: 2, distance: 0.04357391595840454, entity: {'song_name': 'song2'}\n",
      "id: 14, distance: 0.04771279916167259, entity: {'song_name': 'song14'}\n",
      "id: 98, distance: 0.04890989139676094, entity: {'song_name': 'song98'}\n"
     ]
    }
   ],
   "source": [
    "for result in results[0]:\n",
    "    print (result)"
   ]
  },
  {
   "cell_type": "code",
   "execution_count": null,
   "id": "a9ee2b8e",
   "metadata": {},
   "outputs": [],
   "source": []
  }
 ],
 "metadata": {
  "kernelspec": {
   "display_name": "Python 3 (ipykernel)",
   "language": "python",
   "name": "python3"
  },
  "language_info": {
   "codemirror_mode": {
    "name": "ipython",
    "version": 3
   },
   "file_extension": ".py",
   "mimetype": "text/x-python",
   "name": "python",
   "nbconvert_exporter": "python",
   "pygments_lexer": "ipython3",
   "version": "3.9.13"
  }
 },
 "nbformat": 4,
 "nbformat_minor": 5
}
