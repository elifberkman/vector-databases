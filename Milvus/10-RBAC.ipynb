{
 "cells": [
  {
   "cell_type": "markdown",
   "id": "716de949",
   "metadata": {},
   "source": [
    "# Role Based Access Control"
   ]
  },
  {
   "cell_type": "markdown",
   "id": "92583766",
   "metadata": {},
   "source": [
    "Role based access control provides or restricts access to the database resources based on the user's role within an organization.\n",
    "\n",
    "In Milvus, we can create roles to which we can assign permissions.\n",
    "\n",
    "We can assign one or more roles to an user, and this will grant all the permissions to the user from the assigned roles."
   ]
  },
  {
   "cell_type": "markdown",
   "id": "1232a2be",
   "metadata": {},
   "source": [
    "Before we begin with role based access control examples, we will have to enable user authentication in the settings.\n",
    "\n",
    "To do that, we will have to download the configuration file, enable authentication in the configuration file and mount the file before we start the containers.\n",
    "\n",
    "The download link for the config file is available in the official documentation: https://milvus.io/docs/configure-docker.md#Download-a-configuration-file"
   ]
  },
  {
   "cell_type": "markdown",
   "id": "53f35f15",
   "metadata": {},
   "source": [
    "And in the downloaded file, milvus.yaml, we will have to set the authorization enabled parameter as true. And this is available under the security.\n",
    "```\n",
    "authorizationEnabled: true\n",
    "```\n",
    "\n",
    "Once the changes are saved in the file, open the docker compose file and add this configuration file as Mountable volume.\n",
    "\n",
    "```\n",
    "    volumes:\n",
    "      - ${DOCKER_VOLUME_DIRECTORY:-.}/volumes/milvus:/var/lib/milvus\n",
    "      - ${DOCKER_VOLUME_DIRECTORY:-.}/milvus.yaml:/milvus/config/milvus.yaml\n",
    "```"
   ]
  },
  {
   "cell_type": "markdown",
   "id": "67c1a7f6",
   "metadata": {},
   "source": [
    "Once these changes are made, make sure to restart the containers."
   ]
  },
  {
   "cell_type": "markdown",
   "id": "fdc66b55",
   "metadata": {},
   "source": [
    "Once the authentication is enabled, we will have to connect using root user and the default password for the root user is milvus. We will have to provide these credentials while connecting to the Milvus server."
   ]
  },
  {
   "cell_type": "code",
   "execution_count": 1,
   "id": "1be1601c-cf01-4fc2-ac45-b2e60cf4e5d5",
   "metadata": {},
   "outputs": [],
   "source": [
    "from pymilvus import Role, utility, connections, Collection\n",
    "connections.connect(\n",
    "  alias=\"default\",\n",
    "  host='localhost',\n",
    "  port='19530',\n",
    "    user='root',\n",
    "    password='Milvus'\n",
    ")"
   ]
  },
  {
   "cell_type": "code",
   "execution_count": 2,
   "id": "8eff92fc-987b-4ae6-9c4f-4e089ae8a59a",
   "metadata": {},
   "outputs": [
    {
     "name": "stdout",
     "output_type": "stream",
     "text": [
      "RoleInfo groups:\n",
      "- RoleItem: <role_name:admin>, <users:()>\n",
      "- RoleItem: <role_name:public>, <users:()>\n",
      "RoleInfo groups:\n",
      "- RoleItem: <role_name:admin>, <users:()>\n",
      "- RoleItem: <role_name:public>, <users:()>\n",
      "- RoleItem: <role_name:test_role>, <users:()>\n"
     ]
    }
   ],
   "source": [
    "# Create a role\n",
    "print(utility.list_roles(include_user_info=True, using=\"default\"))\n",
    "\n",
    "role_name = \"test_role\"\n",
    "role = Role(role_name, using=\"default\")\n",
    "role.create()\n",
    "\n",
    "print(utility.list_roles(include_user_info=True, using=\"default\"))"
   ]
  },
  {
   "cell_type": "markdown",
   "id": "11762a5a",
   "metadata": {},
   "source": [
    "https://milvus.io/docs/users_and_roles.md#Users-and-Roles"
   ]
  },
  {
   "cell_type": "code",
   "execution_count": 3,
   "id": "eb5a2a4a-a194-4cc6-b17d-ab2facf85474",
   "metadata": {},
   "outputs": [
    {
     "data": {
      "text/plain": [
       "GrantInfo groups:\n",
       "- GrantItem: <object:Collection>, <object_name:*>, <db_name:default>, <role_name:test_role>, <grantor_name:root>, <privilege:Search>"
      ]
     },
     "execution_count": 3,
     "metadata": {},
     "output_type": "execute_result"
    }
   ],
   "source": [
    "# Grant Privileges to the role\n",
    "\n",
    "role.grant(\"Collection\", \"*\", \"Search\")\n",
    "role.list_grants()"
   ]
  },
  {
   "cell_type": "code",
   "execution_count": 4,
   "id": "ddb1ce75-ce88-4e1c-94b7-50cc481de557",
   "metadata": {},
   "outputs": [
    {
     "name": "stdout",
     "output_type": "stream",
     "text": [
      "['golden_clover', 'root']\n"
     ]
    }
   ],
   "source": [
    "# Create a new user\n",
    "utility.create_user('golden_clover', '123456', using=\"default\")\n",
    "print(utility.list_usernames(using=\"default\"))"
   ]
  },
  {
   "cell_type": "code",
   "execution_count": 5,
   "id": "64ee685b-55a5-4b7c-917a-1458663c5994",
   "metadata": {},
   "outputs": [
    {
     "name": "stdout",
     "output_type": "stream",
     "text": [
      "UserInfo groups:\n",
      "- UserItem: <username:golden_clover>, <roles:()>\n",
      "UserInfo groups:\n",
      "- UserItem: <username:golden_clover>, <roles:('test_role',)>\n"
     ]
    }
   ],
   "source": [
    "# Add role to user\n",
    "print(utility.list_user('golden_clover', include_role_info=True, using=\"default\"))\n",
    "\n",
    "role.add_user('golden_clover')\n",
    "\n",
    "print(utility.list_user('golden_clover', include_role_info=True, using=\"default\"))"
   ]
  },
  {
   "cell_type": "code",
   "execution_count": 6,
   "id": "ea0c9a7c-c4aa-4d8e-a3b5-c30a6bd3e5cb",
   "metadata": {},
   "outputs": [
    {
     "data": {
      "text/plain": [
       "GrantInfo groups:"
      ]
     },
     "execution_count": 6,
     "metadata": {},
     "output_type": "execute_result"
    }
   ],
   "source": [
    "# Revoke permissions\n",
    "\n",
    "role.revoke(\"Collection\",\"*\",\"Search\")\n",
    "role.list_grants()"
   ]
  },
  {
   "cell_type": "code",
   "execution_count": 7,
   "id": "71f3bd68-26d5-473b-8077-4fdbec1cdad9",
   "metadata": {},
   "outputs": [
    {
     "name": "stdout",
     "output_type": "stream",
     "text": [
      "UserInfo groups:\n",
      "- UserItem: <username:golden_clover>, <roles:()>\n"
     ]
    }
   ],
   "source": [
    "# Remove user from role\n",
    "\n",
    "role.remove_user('golden_clover')\n",
    "\n",
    "print(utility.list_user('golden_clover', include_role_info=True, using=\"default\"))"
   ]
  },
  {
   "cell_type": "code",
   "execution_count": 8,
   "id": "40213d46-5687-4f18-bc19-3c827344ae34",
   "metadata": {},
   "outputs": [
    {
     "data": {
      "text/plain": [
       "RoleInfo groups:\n",
       "- RoleItem: <role_name:admin>, <users:()>\n",
       "- RoleItem: <role_name:public>, <users:()>"
      ]
     },
     "execution_count": 8,
     "metadata": {},
     "output_type": "execute_result"
    }
   ],
   "source": [
    "# Drop a role\n",
    "\n",
    "role.drop()\n",
    "utility.list_roles(include_user_info=True, using=\"default\")"
   ]
  },
  {
   "cell_type": "code",
   "execution_count": 9,
   "id": "6ca85fbd-9faf-4950-9e09-3c382971c437",
   "metadata": {},
   "outputs": [
    {
     "name": "stdout",
     "output_type": "stream",
     "text": [
      "['root']\n"
     ]
    }
   ],
   "source": [
    "# Drop a user\n",
    "utility.delete_user('golden_clover', using=\"default\")\n",
    "print(utility.list_usernames(using=\"default\"))\n"
   ]
  },
  {
   "cell_type": "code",
   "execution_count": null,
   "id": "204ffc52-83dd-41c9-9f64-11099fe536a0",
   "metadata": {},
   "outputs": [],
   "source": []
  }
 ],
 "metadata": {
  "kernelspec": {
   "display_name": "Python 3 (ipykernel)",
   "language": "python",
   "name": "python3"
  },
  "language_info": {
   "codemirror_mode": {
    "name": "ipython",
    "version": 3
   },
   "file_extension": ".py",
   "mimetype": "text/x-python",
   "name": "python",
   "nbconvert_exporter": "python",
   "pygments_lexer": "ipython3",
   "version": "3.9.13"
  }
 },
 "nbformat": 4,
 "nbformat_minor": 5
}
