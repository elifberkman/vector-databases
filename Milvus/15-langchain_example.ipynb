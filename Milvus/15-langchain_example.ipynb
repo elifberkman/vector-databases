{
 "cells": [
  {
   "cell_type": "code",
   "execution_count": 1,
   "id": "f2612a29-40ec-442e-8a59-1085a542a311",
   "metadata": {},
   "outputs": [],
   "source": [
    "#!pip3 install langchain openai tiktoken\n",
    "\n",
    "from langchain.embeddings.openai import OpenAIEmbeddings\n",
    "from langchain.vectorstores import Milvus\n",
    "from langchain.document_loaders import TextLoader\n",
    "from langchain.text_splitter import CharacterTextSplitter\n",
    "from langchain.chains.qa_with_sources import load_qa_with_sources_chain\n",
    "from langchain.llms import OpenAI\n",
    "from os import environ\n",
    "from getpass import getpass\n"
   ]
  },
  {
   "cell_type": "code",
   "execution_count": 2,
   "id": "01c3a7bb-9332-47c1-b064-6894ddbcb130",
   "metadata": {},
   "outputs": [],
   "source": [
    "# load the data\n",
    "loader = TextLoader(\"chess_wc_2023.txt\")\n",
    "docs = loader.load()"
   ]
  },
  {
   "cell_type": "code",
   "execution_count": 3,
   "id": "b278a247-a55c-417b-8f47-e4dee4541e95",
   "metadata": {},
   "outputs": [],
   "source": [
    "# Split the data into multiple non-overlapping chunks\n",
    "\n",
    "text_splitter = CharacterTextSplitter(chunk_size=1024, chunk_overlap=0)\n",
    "docs = text_splitter.split_documents(docs)"
   ]
  },
  {
   "cell_type": "code",
   "execution_count": 4,
   "id": "33723e6d-1ddc-433d-a739-59c85f07c45f",
   "metadata": {},
   "outputs": [
    {
     "name": "stdout",
     "output_type": "stream",
     "text": [
      "OpenAPI API Key:  ········\n"
     ]
    }
   ],
   "source": [
    "## Set up OPENAI_API_KEY environment variables\n",
    "\n",
    "OPENAI_API_KEY = getpass('OpenAPI API Key: ')  \n",
    "environ[\"OPENAI_API_KEY\"] = OPENAI_API_KEY"
   ]
  },
  {
   "cell_type": "code",
   "execution_count": 5,
   "id": "4bed5a1d-5754-47c3-9d63-a7af2e56bf7a",
   "metadata": {},
   "outputs": [],
   "source": [
    "# Declare the embedding model\n",
    "\n",
    "embeddings = OpenAIEmbeddings(model=\"text-embedding-ada-002\")"
   ]
  },
  {
   "cell_type": "code",
   "execution_count": 6,
   "id": "3ac41fe6-ae54-4cff-9f1f-28fdb52f6762",
   "metadata": {},
   "outputs": [],
   "source": [
    "# Declare the vector store, and store the embeddings from the doc\n",
    "\n",
    "vector_store = Milvus.from_documents(\n",
    "    docs,\n",
    "    embedding=embeddings,\n",
    "    connection_args={\"host\": \"localhost\", \"port\": \"19530\"}\n",
    ")\n"
   ]
  },
  {
   "cell_type": "code",
   "execution_count": 11,
   "id": "2e7bf93a-47d7-4dab-b4c4-26e4e2f981a4",
   "metadata": {},
   "outputs": [
    {
     "data": {
      "text/plain": [
       "{'output_text': ' The total prize fund is US$1,834,000, with the first prize of US$110,000.\\nSOURCES: chess_wc_2023.txt'}"
      ]
     },
     "execution_count": 11,
     "metadata": {},
     "output_type": "execute_result"
    }
   ],
   "source": [
    "chain = load_qa_with_sources_chain(OpenAI(temperature=0), chain_type=\"map_reduce\", return_intermediate_steps=False)\n",
    "query = \"What is the prize money?\"\n",
    "chain({\"input_documents\": docs, \"question\": query}, return_only_outputs=True)"
   ]
  },
  {
   "cell_type": "code",
   "execution_count": null,
   "id": "1425bf75-d99a-4e61-b8d0-85760bd9e195",
   "metadata": {},
   "outputs": [],
   "source": []
  }
 ],
 "metadata": {
  "kernelspec": {
   "display_name": "Python 3 (ipykernel)",
   "language": "python",
   "name": "python3"
  },
  "language_info": {
   "codemirror_mode": {
    "name": "ipython",
    "version": 3
   },
   "file_extension": ".py",
   "mimetype": "text/x-python",
   "name": "python",
   "nbconvert_exporter": "python",
   "pygments_lexer": "ipython3",
   "version": "3.11.2"
  }
 },
 "nbformat": 4,
 "nbformat_minor": 5
}
