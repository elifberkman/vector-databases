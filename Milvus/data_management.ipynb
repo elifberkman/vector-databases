{
 "cells": [
  {
   "cell_type": "code",
   "execution_count": 1,
   "id": "fb647c9c-7849-4ff1-8ce2-6aba47afde1a",
   "metadata": {},
   "outputs": [],
   "source": [
    "from pymilvus import Collection, FieldSchema, CollectionSchema, DataType, connections, utility\n",
    "import string\n",
    "import random"
   ]
  },
  {
   "cell_type": "code",
   "execution_count": 3,
   "id": "a9f8d975-dc20-4ae2-b945-53ee0d294abd",
   "metadata": {},
   "outputs": [],
   "source": [
    "connections.connect(\n",
    "  alias=\"default\",\n",
    "  host='localhost',\n",
    "  port='19530',\n",
    ")"
   ]
  },
  {
   "cell_type": "code",
   "execution_count": 4,
   "id": "19079271-dd9e-45d5-a58a-6bad2857b40d",
   "metadata": {},
   "outputs": [
    {
     "data": {
      "text/plain": [
       "['Album1']"
      ]
     },
     "execution_count": 4,
     "metadata": {},
     "output_type": "execute_result"
    }
   ],
   "source": [
    "collection = Collection(\"Album1\")\n",
    "utility.list_collections()"
   ]
  },
  {
   "cell_type": "code",
   "execution_count": 13,
   "id": "0cb4c76e",
   "metadata": {},
   "outputs": [
    {
     "name": "stdout",
     "output_type": "stream",
     "text": [
      "collection.schema: \n",
      " {'auto_id': False, 'description': 'Album Songs', 'fields': [{'name': 'song_name', 'description': '', 'type': <DataType.VARCHAR: 21>, 'params': {'max_length': 200}}, {'name': 'song_id', 'description': '', 'type': <DataType.INT64: 5>, 'is_primary': True, 'auto_id': False}, {'name': 'listen_count', 'description': '', 'type': <DataType.INT64: 5>}, {'name': 'song_vec', 'description': '', 'type': <DataType.FLOAT_VECTOR: 101>, 'params': {'dim': 2}}], 'enable_dynamic_field': False} \n",
      "\n",
      "collection.description: \n",
      " Album Songs \n",
      "\n",
      "collection.name: \n",
      " Album1 \n",
      "\n",
      "collection.is_empty: \n",
      " False \n",
      "\n",
      "collection.num_entities: \n",
      " 5 \n",
      "\n",
      "collection.primary_field: \n",
      " {'name': 'song_id', 'description': '', 'type': <DataType.INT64: 5>, 'is_primary': True, 'auto_id': False} \n",
      "\n",
      "collection.partitions: \n",
      " [{\"name\":\"_default\",\"collection_name\":\"Album1\",\"description\":\"\"}, {\"name\":\"Disc1\",\"collection_name\":\"Album1\",\"description\":\"\"}] \n",
      "\n",
      "collection.indexes: \n",
      " [] \n",
      "\n"
     ]
    }
   ],
   "source": [
    "print(\"collection.schema:\", \"\\n\", collection.schema, \"\\n\")                 # Return the schema.CollectionSchema of the collection.\n",
    "print(\"collection.description:\", \"\\n\", collection.description, \"\\n\")       # Return the description of the collection.\n",
    "print(\"collection.name:\", \"\\n\", collection.name, \"\\n\")                     # Return the name of the collection.\n",
    "print(\"collection.is_empty:\", \"\\n\", collection.is_empty, \"\\n\")             # Return the boolean value that indicates if the collection is empty.\n",
    "print(\"collection.num_entities:\", \"\\n\", collection.num_entities, \"\\n\")     # Return the number of entities in the collection.\n",
    "print(\"collection.primary_field:\", \"\\n\", collection.primary_field, \"\\n\")   # Return the schema.FieldSchema of the primary key field.\n",
    "print(\"collection.partitions:\", \"\\n\", collection.partitions, \"\\n\")         # Return the list[Partition] object.\n",
    "print(\"collection.indexes:\", \"\\n\", collection.indexes, \"\\n\")               # Return the list[Index] object."
   ]
  },
  {
   "cell_type": "code",
   "execution_count": 10,
   "id": "55c95c95-4505-4dbc-8feb-88110a07d32c",
   "metadata": {},
   "outputs": [],
   "source": [
    "## Prepare data to be inserted\n",
    "num_entities = 5\n",
    "data = [\n",
    "  [''.join(random.choices(string.ascii_uppercase, k=7)) for i in range(num_entities)], #song name\n",
    "  [i for i in range(num_entities)], # Song ID\n",
    "  [random.randint(0, 100000) for i in range(num_entities)], # Listen Count\n",
    "  [[random.random() for _ in range(2)] for _ in range(num_entities)] # song_vec - 2d vector\n",
    "]"
   ]
  },
  {
   "cell_type": "code",
   "execution_count": 11,
   "id": "767ae57b",
   "metadata": {},
   "outputs": [
    {
     "name": "stdout",
     "output_type": "stream",
     "text": [
      "['CBKUKBL', 'YDRFWLW', 'RTDAGVD', 'CPZEIXS', 'DORAFEZ']\n",
      "[0, 1, 2, 3, 4]\n",
      "[2385, 84996, 98962, 43099, 94064]\n",
      "[[0.656659900015113, 0.6223204184629147], [0.40849532433301583, 0.9283011256462833], [0.14956469838214104, 0.5246794900785718], [0.8044191101591377, 0.3776874660862892], [0.17611237744929387, 0.7115669198330138]]\n"
     ]
    }
   ],
   "source": [
    "for i in data:\n",
    "    print(i)"
   ]
  },
  {
   "cell_type": "code",
   "execution_count": 6,
   "id": "a023e521-e63c-41bf-a55f-f700aa38ef6a",
   "metadata": {},
   "outputs": [],
   "source": [
    "# Insert entities\n",
    "data_insert = collection.insert(data)"
   ]
  },
  {
   "cell_type": "code",
   "execution_count": 7,
   "id": "67ac2e72-48a4-4cf8-9c8f-1ed7bf96c26a",
   "metadata": {},
   "outputs": [
    {
     "data": {
      "text/plain": [
       "(insert count: 0, delete count: 2, upsert count: 0, timestamp: 0, success count: 0, err count: 0)"
      ]
     },
     "execution_count": 7,
     "metadata": {},
     "output_type": "execute_result"
    }
   ],
   "source": [
    "# Delete Entities\n",
    "\n",
    "expr = \"song_id in [0, 20]\"\n",
    "collection.delete(expr)"
   ]
  },
  {
   "cell_type": "code",
   "execution_count": 8,
   "id": "aae834bc-6807-4358-97d2-8d9cfabaf28c",
   "metadata": {},
   "outputs": [],
   "source": [
    "# Compact collection\n",
    "collection.compact()"
   ]
  },
  {
   "cell_type": "code",
   "execution_count": null,
   "id": "aaa514b6-1ba9-48a6-9154-1f9e1be18ee3",
   "metadata": {},
   "outputs": [],
   "source": []
  }
 ],
 "metadata": {
  "kernelspec": {
   "display_name": "Python 3 (ipykernel)",
   "language": "python",
   "name": "python3"
  },
  "language_info": {
   "codemirror_mode": {
    "name": "ipython",
    "version": 3
   },
   "file_extension": ".py",
   "mimetype": "text/x-python",
   "name": "python",
   "nbconvert_exporter": "python",
   "pygments_lexer": "ipython3",
   "version": "3.9.13"
  }
 },
 "nbformat": 4,
 "nbformat_minor": 5
}
