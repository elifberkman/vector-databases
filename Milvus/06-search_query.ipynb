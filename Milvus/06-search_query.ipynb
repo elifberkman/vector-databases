{
 "cells": [
  {
   "cell_type": "markdown",
   "id": "b684f3cc",
   "metadata": {},
   "source": [
    "# Querying & Searching"
   ]
  },
  {
   "cell_type": "markdown",
   "id": "49f50076",
   "metadata": {},
   "source": [
    "Milvus supports vector search, querying a scalar field and hybrid search using which we can search in vector fields and scalar fields together.\n",
    "\n",
    "All the searches and queries are commonly performed on indexed collections, which means we will have to build indexes before we perform a search."
   ]
  },
  {
   "cell_type": "code",
   "execution_count": 1,
   "id": "4301fc4c-fffc-4626-9b28-2c28ac6f28ac",
   "metadata": {},
   "outputs": [
    {
     "data": {
      "text/plain": [
       "['Album1']"
      ]
     },
     "execution_count": 1,
     "metadata": {},
     "output_type": "execute_result"
    }
   ],
   "source": [
    "from pymilvus import Collection, FieldSchema, CollectionSchema, DataType, connections, utility\n",
    "\n",
    "connections.connect(\n",
    "  alias=\"default\",\n",
    "  host='localhost',\n",
    "  port='19530'\n",
    ")\n",
    "\n",
    "collection = Collection(\"Album1\")\n",
    "collection.compact()\n",
    "utility.list_collections()"
   ]
  },
  {
   "cell_type": "markdown",
   "id": "270017d7",
   "metadata": {},
   "source": [
    "Before we perform a search or a query, the collection has to be loaded into the memory."
   ]
  },
  {
   "cell_type": "code",
   "execution_count": 2,
   "id": "6c38ac14-932d-471d-a08a-16be5abd0f63",
   "metadata": {},
   "outputs": [],
   "source": [
    "# Load the collection in to the memory\n",
    "collection.load(replica_number=1)"
   ]
  },
  {
   "cell_type": "markdown",
   "id": "144fd4d8",
   "metadata": {},
   "source": [
    "## Vector Search"
   ]
  },
  {
   "cell_type": "code",
   "execution_count": 6,
   "id": "517e1735-fa68-488e-824c-c718ff0f49ff",
   "metadata": {},
   "outputs": [],
   "source": [
    "## Vector Similarity Search\n",
    "\n",
    "results = collection.search(\n",
    "\tdata=[[0.1, 0.2]],  # data, which is the input vector based on which the similar vectors will be searched in the database collection\n",
    "\tanns_field=\"song_vec\",  # approximate nearest neighbors field, which is a vector field which will be used in the search.\n",
    "\tparam={\"metric_type\": \"L2\", \"params\": {\"search_k\": 64}}, #  these parameters will vary based on the index type which is present in the collection\n",
    "\tlimit=5,  # limit the results\n",
    "\texpr=None,  # this will be used only in the hybrid search\n",
    "\toutput_fields=['song_name'] # the list of fields available in the collection, and these fields will be available in the results\n",
    ")"
   ]
  },
  {
   "cell_type": "markdown",
   "id": "907fd398",
   "metadata": {},
   "source": [
    "The results for a vector search will have the IDs, which is the primary key, the distance which will be computed based on the input parameters to the search and we have the entity in which we will have the values for the output fields."
   ]
  },
  {
   "cell_type": "code",
   "execution_count": 7,
   "id": "2617289e",
   "metadata": {},
   "outputs": [
    {
     "name": "stdout",
     "output_type": "stream",
     "text": [
      "id: 0, distance: 0.0369926393032074, entity: {'song_name': 'IGKXDNX'}\n",
      "id: 4, distance: 0.04556524008512497, entity: {'song_name': 'OPPCDQT'}\n",
      "id: 2, distance: 0.06613810360431671, entity: {'song_name': 'WNVBFQR'}\n",
      "id: 3, distance: 0.11746208369731903, entity: {'song_name': 'JARQJZL'}\n"
     ]
    }
   ],
   "source": [
    "for result in results[0]:\n",
    "    print (result)"
   ]
  },
  {
   "cell_type": "markdown",
   "id": "93dae4f9",
   "metadata": {},
   "source": [
    "## Querying Scalar Fields"
   ]
  },
  {
   "cell_type": "code",
   "execution_count": 8,
   "id": "bc68f5e8-21cd-415a-b4bb-2b370e84246a",
   "metadata": {},
   "outputs": [],
   "source": [
    "# Query the data in scalar field\n",
    "\n",
    "query_res = collection.query(\n",
    "  expr = \"song_id in [1,2]\",  # specify the expression based on which the entities will be filtered in the scalar field\n",
    "  limit = 10,  # limit the number of entities in the output result set\n",
    "  output_fields = [\"song_name\", \"listen_count\"]  # the output fields that will be present in the result set\n",
    ")"
   ]
  },
  {
   "cell_type": "markdown",
   "id": "e7062844",
   "metadata": {},
   "source": [
    "We have searched for the entities where the song ID is 1 or 2 and we have only two entities in the result set which matches this expression."
   ]
  },
  {
   "cell_type": "code",
   "execution_count": 9,
   "id": "2fdf6ddf",
   "metadata": {},
   "outputs": [
    {
     "name": "stdout",
     "output_type": "stream",
     "text": [
      "{'song_name': 'LYKKPXH', 'listen_count': 97430, 'song_id': 1}\n",
      "{'song_name': 'MCNMGLZ', 'listen_count': 23383, 'song_id': 2}\n"
     ]
    }
   ],
   "source": [
    "for result in query_res:\n",
    "    print (result)"
   ]
  },
  {
   "cell_type": "markdown",
   "id": "85bddc76",
   "metadata": {},
   "source": [
    "## Hybrid Search"
   ]
  },
  {
   "cell_type": "code",
   "execution_count": 10,
   "id": "f6cafb7d-1a1b-4d86-8f70-a848f77f25b5",
   "metadata": {},
   "outputs": [
    {
     "name": "stdout",
     "output_type": "stream",
     "text": [
      "id: 0, distance: 0.0369926393032074, entity: {'song_name': 'IGKXDNX'}\n",
      "id: 4, distance: 0.04556524008512497, entity: {'song_name': 'OPPCDQT'}\n",
      "id: 2, distance: 0.06613810360431671, entity: {'song_name': 'WNVBFQR'}\n",
      "id: 3, distance: 0.11746208369731903, entity: {'song_name': 'JARQJZL'}\n"
     ]
    }
   ],
   "source": [
    "# Hybrid search\n",
    "\n",
    "hybrid_res = collection.search(\n",
    "\tdata=[[0.1, 0.2]], \n",
    "\tanns_field=\"song_vec\", \n",
    "\tparam={\"metric_type\": \"L2\", \"params\": {\"search_k\": 64}},\n",
    "\tlimit=5, \n",
    "\texpr=\"listen_count <= 100000\",\n",
    "\toutput_fields=['song_name']\n",
    ")\n",
    "\n",
    "for result in hybrid_res[0]:\n",
    "    print (result)"
   ]
  },
  {
   "cell_type": "markdown",
   "id": "596cced7",
   "metadata": {},
   "source": [
    "Finally, when we are done with searching, we can release the collection that is loaded in the memory."
   ]
  },
  {
   "cell_type": "code",
   "execution_count": 11,
   "id": "d239ee16-3e25-486a-84f5-a0cc40f93722",
   "metadata": {},
   "outputs": [],
   "source": [
    "# Release the collection from the memory\n",
    "collection.release()"
   ]
  },
  {
   "cell_type": "code",
   "execution_count": null,
   "id": "0de5fd71-2833-4128-a863-5ceabc3c13f3",
   "metadata": {},
   "outputs": [],
   "source": []
  }
 ],
 "metadata": {
  "kernelspec": {
   "display_name": "Python 3 (ipykernel)",
   "language": "python",
   "name": "python3"
  },
  "language_info": {
   "codemirror_mode": {
    "name": "ipython",
    "version": 3
   },
   "file_extension": ".py",
   "mimetype": "text/x-python",
   "name": "python",
   "nbconvert_exporter": "python",
   "pygments_lexer": "ipython3",
   "version": "3.9.13"
  }
 },
 "nbformat": 4,
 "nbformat_minor": 5
}
