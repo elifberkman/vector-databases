{
 "cells": [
  {
   "cell_type": "markdown",
   "id": "9df44919",
   "metadata": {},
   "source": [
    "# An Example Using Tensorflow"
   ]
  },
  {
   "cell_type": "markdown",
   "id": "28137f6f",
   "metadata": {},
   "source": [
    "1. Download the pre-trained model\n",
    "2. Download the dataset and extract the embeddings\n",
    "3. Create a collection in Milvus with ID, Message and Embedding fields\n",
    "4. Insert the data to the collection\n",
    "5. Build a vector index \n",
    "6. Load the collection into the memory\n",
    "7. Define test sentence and get the embedding for this sentence. Find similar sentences in the dataset"
   ]
  },
  {
   "cell_type": "markdown",
   "id": "b8791f95",
   "metadata": {},
   "source": [
    "This dataset has around 5500 SMS that are either labeled as spam or ham.\n",
    "\n",
    "To download this dataset, you can go to the https://archive.ics.uci.edu/dataset/228/sms+spam+collection "
   ]
  },
  {
   "cell_type": "code",
   "execution_count": 1,
   "id": "39b3fa4b-d401-4281-9d00-9385ada301cb",
   "metadata": {},
   "outputs": [
    {
     "name": "stdout",
     "output_type": "stream",
     "text": [
      "WARNING:tensorflow:From d:\\Study\\Vector Databases\\Milvus\\.venv\\lib\\site-packages\\tf_keras\\src\\losses.py:2976: The name tf.losses.sparse_softmax_cross_entropy is deprecated. Please use tf.compat.v1.losses.sparse_softmax_cross_entropy instead.\n",
      "\n"
     ]
    }
   ],
   "source": [
    "! pip install tensorflow tensorflow-hub\n",
    "import os\n",
    "import tensorflow as tf\n",
    "import tensorflow_hub as hub\n",
    "import numpy as np\n",
    "import os\n",
    "import re\n",
    "from pymilvus import Collection, FieldSchema, CollectionSchema, DataType, connections, utility"
   ]
  },
  {
   "cell_type": "markdown",
   "id": "2f2d8d73",
   "metadata": {},
   "source": [
    "Extract the embedding vector from this dataset using universal sentence encoder.\n",
    "\n",
    "Use TensorFlow and a Pre-trained model is readily available in the TensorFlow hub.\n",
    "\n",
    "https://www.tensorflow.org/hub/tutorials/semantic_similarity_with_tf_hub_universal_encoder "
   ]
  },
  {
   "cell_type": "code",
   "execution_count": 2,
   "id": "e07d77d8-ae70-412d-992e-3b4fe1f94c63",
   "metadata": {},
   "outputs": [
    {
     "name": "stdout",
     "output_type": "stream",
     "text": [
      "WARNING:tensorflow:From d:\\Study\\Vector Databases\\Milvus\\.venv\\lib\\site-packages\\tensorflow_hub\\resolver.py:120: The name tf.gfile.MakeDirs is deprecated. Please use tf.io.gfile.makedirs instead.\n",
      "\n"
     ]
    },
    {
     "name": "stderr",
     "output_type": "stream",
     "text": [
      "WARNING:tensorflow:From d:\\Study\\Vector Databases\\Milvus\\.venv\\lib\\site-packages\\tensorflow_hub\\resolver.py:120: The name tf.gfile.MakeDirs is deprecated. Please use tf.io.gfile.makedirs instead.\n",
      "\n"
     ]
    },
    {
     "name": "stdout",
     "output_type": "stream",
     "text": [
      "WARNING:tensorflow:From d:\\Study\\Vector Databases\\Milvus\\.venv\\lib\\site-packages\\tensorflow_hub\\module_v2.py:126: The name tf.saved_model.load_v2 is deprecated. Please use tf.compat.v2.saved_model.load instead.\n",
      "\n"
     ]
    },
    {
     "name": "stderr",
     "output_type": "stream",
     "text": [
      "WARNING:tensorflow:From d:\\Study\\Vector Databases\\Milvus\\.venv\\lib\\site-packages\\tensorflow_hub\\module_v2.py:126: The name tf.saved_model.load_v2 is deprecated. Please use tf.compat.v2.saved_model.load instead.\n",
      "\n"
     ]
    }
   ],
   "source": [
    "# Download the model and load the model\n",
    "module_url = \"https://tfhub.dev/google/universal-sentence-encoder-large/5\" #@param [\"https://tfhub.dev/google/universal-sentence-encoder/4\", \"https://tfhub.dev/google/universal-sentence-encoder-large/5\"]\n",
    "model = hub.load(module_url)"
   ]
  },
  {
   "cell_type": "markdown",
   "id": "c46e6f10",
   "metadata": {},
   "source": [
    "We encode the messages in this dataset and store it in the Milvus database."
   ]
  },
  {
   "cell_type": "code",
   "execution_count": 3,
   "id": "40facc29-5027-4f5d-8689-7c3960e685a5",
   "metadata": {},
   "outputs": [],
   "source": [
    "# Function to generate embeddings\n",
    "def embeddings(text):\n",
    "    return np.array(model(text)).flatten().tolist()"
   ]
  },
  {
   "cell_type": "code",
   "execution_count": 4,
   "id": "774acf80-65b5-486a-9bbb-d3b4660fddf7",
   "metadata": {},
   "outputs": [],
   "source": [
    "# We will create the embeddings from this dataset using the universal-sentence-encoder model\n",
    "\n",
    "file_path = os.path.join('data', 'SMSSpamCollection')\n",
    "\n",
    "with open(file_path) as file:\n",
    "    lines = [line for line in file]\n",
    "\n",
    "msgs = [x.split('\\t')[1].replace('\\n', '')   for x in lines]\n",
    "embdngs = [embeddings([x]) for x in msgs]\n",
    "indx = list(range(1, len(msgs)+1))\n",
    "\n",
    "data_to_insert = [indx, msgs, embdngs]"
   ]
  },
  {
   "cell_type": "code",
   "execution_count": 5,
   "id": "69b5e55d-8255-4515-9bd1-3695e9eeb1bb",
   "metadata": {},
   "outputs": [],
   "source": [
    "# Connect to milvus database\n",
    "connections.connect(\n",
    "  alias=\"default\",\n",
    "  host='localhost',\n",
    "  port='19530'\n",
    ")"
   ]
  },
  {
   "cell_type": "code",
   "execution_count": 6,
   "id": "e76e8565-d601-4b8c-9508-eabd99561718",
   "metadata": {},
   "outputs": [
    {
     "data": {
      "text/plain": [
       "['dynamic_schema_example', 'Spam_Test', 'Album1', 'partition_key_collection']"
      ]
     },
     "execution_count": 6,
     "metadata": {},
     "output_type": "execute_result"
    }
   ],
   "source": [
    "# Field Schema\n",
    "id = FieldSchema(\n",
    "  name=\"id\",\n",
    "  dtype=DataType.INT64,\n",
    "  is_primary=True,\n",
    ")\n",
    "message = FieldSchema(\n",
    "  name=\"message\",\n",
    "  dtype=DataType.VARCHAR,\n",
    "  max_length=6000,\n",
    ")\n",
    "message_vec = FieldSchema(\n",
    "  name=\"message_embeddings\",\n",
    "  dtype=DataType.FLOAT_VECTOR,\n",
    "  dim=512\n",
    ")\n",
    "# collection schema\n",
    "collection_schema = CollectionSchema(\n",
    "  fields=[id, message, message_vec],\n",
    "  description=\"Spam SMS collection\"\n",
    ")\n",
    "# Create collection\n",
    "collection = Collection(\n",
    "    name=\"Spam_Test\",\n",
    "    schema=collection_schema,\n",
    "    using='default')\n",
    "utility.list_collections()"
   ]
  },
  {
   "cell_type": "code",
   "execution_count": 7,
   "id": "0e1a5937-79fc-4df3-a7d1-a6e5e1c3a781",
   "metadata": {},
   "outputs": [],
   "source": [
    "# Insert entities\n",
    "data_insert = collection.insert(data_to_insert)"
   ]
  },
  {
   "cell_type": "code",
   "execution_count": 8,
   "id": "47838f7e-e751-4788-866d-c26a5b65d5df",
   "metadata": {},
   "outputs": [
    {
     "data": {
      "text/plain": [
       "Status(code=0, message=)"
      ]
     },
     "execution_count": 8,
     "metadata": {},
     "output_type": "execute_result"
    }
   ],
   "source": [
    "# Create Index\n",
    "index_params = {\n",
    "  \"metric_type\":\"L2\",\n",
    "  \"index_type\":\"IVF_FLAT\",\n",
    "  \"params\":{\"nlist\":1024},\n",
    "  \"index_name\": \"SMS_IVF_FLAT_TEST\"\n",
    "}\n",
    "\n",
    "# Index on vector field\n",
    "collection.create_index(\n",
    "  field_name=\"message_embeddings\", \n",
    "  index_params=index_params\n",
    ")"
   ]
  },
  {
   "cell_type": "code",
   "execution_count": 9,
   "id": "01df515b-57c0-4918-bfb4-babf59a031bb",
   "metadata": {},
   "outputs": [],
   "source": [
    "# Load the collection\n",
    "collection.load(replica_number=1)"
   ]
  },
  {
   "cell_type": "markdown",
   "id": "85e9d025",
   "metadata": {},
   "source": [
    "We will use a custom test message and find the vector embeddings and send the embeddings for the test message and find out the similar messages in the database."
   ]
  },
  {
   "cell_type": "code",
   "execution_count": 10,
   "id": "6f3aaf9a-feb9-4cc2-a33d-a87a7f0d43e9",
   "metadata": {},
   "outputs": [],
   "source": [
    "# test message\n",
    "test_message = [\"claim prize\"]\n",
    "test_message_vector = embeddings(test_message)"
   ]
  },
  {
   "cell_type": "code",
   "execution_count": 11,
   "id": "e8b85606-69de-4990-83cb-277e085025c5",
   "metadata": {},
   "outputs": [
    {
     "name": "stdout",
     "output_type": "stream",
     "text": [
      "id: 1119, distance: 1.1402018070220947, entity: {'message': '449050000301 You have won a Â£2,000 price! To claim, call 09050000301.'}\n",
      "id: 577, distance: 1.1955623626708984, entity: {'message': 'You have won ?1,000 cash or a ?2,000 prize! To claim, call09050000327'}\n",
      "id: 4048, distance: 1.2085381746292114, entity: {'message': 'Win a Â£1000 cash prize or a prize worth Â£5000'}\n",
      "id: 651, distance: 1.23152494430542, entity: {'message': 'You have won ?1,000 cash or a ?2,000 prize! To claim, call09050000327. T&C: RSTM, SW7 3SS. 150ppm'}\n",
      "id: 9, distance: 1.2500566244125366, entity: {'message': 'WINNER!! As a valued network customer you have been selected to receivea Â£900 prize reward! To claim call 09061701461. Claim code KL341. Valid 12 hours only.'}\n"
     ]
    }
   ],
   "source": [
    "## Vector Similarity Search\n",
    "search_params = {\"metric_type\": \"L2\", \"params\": {\"nprobe\": 64}}\n",
    "\n",
    "results = collection.search(\n",
    "\tdata=[test_message_vector], \n",
    "\tanns_field=\"message_embeddings\", \n",
    "\tparam=search_params,\n",
    "\tlimit=5, \n",
    "\texpr=None,\n",
    "\toutput_fields=['message']\n",
    ")\n",
    "\n",
    "for result in results[0]:\n",
    "    print (result)"
   ]
  },
  {
   "cell_type": "code",
   "execution_count": null,
   "id": "a83f281c-b7c7-4e72-9a49-bbf95edee0c6",
   "metadata": {},
   "outputs": [],
   "source": []
  }
 ],
 "metadata": {
  "kernelspec": {
   "display_name": "Python 3 (ipykernel)",
   "language": "python",
   "name": "python3"
  },
  "language_info": {
   "codemirror_mode": {
    "name": "ipython",
    "version": 3
   },
   "file_extension": ".py",
   "mimetype": "text/x-python",
   "name": "python",
   "nbconvert_exporter": "python",
   "pygments_lexer": "ipython3",
   "version": "3.9.13"
  }
 },
 "nbformat": 4,
 "nbformat_minor": 5
}
