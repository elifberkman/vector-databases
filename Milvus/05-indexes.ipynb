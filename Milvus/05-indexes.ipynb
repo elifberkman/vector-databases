{
 "cells": [
  {
   "cell_type": "markdown",
   "id": "57a48eda",
   "metadata": {},
   "source": [
    "# Indexes"
   ]
  },
  {
   "cell_type": "markdown",
   "id": "2d65abbe",
   "metadata": {},
   "source": [
    "Vector indexes are an organizational unit of metadata used to accelerate vector similarity search. Without index built on vectors, Milvus will perform a brute-force search by default."
   ]
  },
  {
   "cell_type": "markdown",
   "id": "150c34e4",
   "metadata": {},
   "source": [
    "Milvus supports indexing, and we can build indexes on both vector and scalar fields."
   ]
  },
  {
   "cell_type": "code",
   "execution_count": 5,
   "id": "3d91f790-295b-4016-b7f2-f01a7f2b1f90",
   "metadata": {},
   "outputs": [],
   "source": [
    "from pymilvus import Collection, FieldSchema, CollectionSchema, DataType, connections, utility"
   ]
  },
  {
   "cell_type": "code",
   "execution_count": 7,
   "id": "fc932531-9608-4540-8996-2b5a03a2ebca",
   "metadata": {},
   "outputs": [],
   "source": [
    "connections.connect(\n",
    "  alias=\"default\",\n",
    "  host='localhost',\n",
    "  port='19530'\n",
    ")"
   ]
  },
  {
   "cell_type": "code",
   "execution_count": 8,
   "id": "8945146f-2c89-4f9c-80c2-d99a3be27042",
   "metadata": {},
   "outputs": [
    {
     "data": {
      "text/plain": [
       "['Album1']"
      ]
     },
     "execution_count": 8,
     "metadata": {},
     "output_type": "execute_result"
    }
   ],
   "source": [
    "collection = Collection(\"Album1\")\n",
    "utility.list_collections()"
   ]
  },
  {
   "cell_type": "markdown",
   "id": "52c8c39d",
   "metadata": {},
   "source": [
    "To build a vector index, we have to specify one of the similarity metric type, the index type, and the necessary parameters for that particular index type. Along with this, we will have to specify the vector field on which the indexes are built."
   ]
  },
  {
   "cell_type": "markdown",
   "id": "385a17eb",
   "metadata": {},
   "source": [
    "For floating point vectors, we can use Euclidean distance, Cosine distance and inner product.\n",
    "\n",
    "**Metric Types**\t\n",
    "* Euclidean distance (L2)\n",
    "* Inner product (IP)\n",
    "* Cosine similarity (COSINE)\t\n",
    "\n",
    "**Index Types**\n",
    "* FLAT\n",
    "* IVF_FLAT\n",
    "* IVF_SQ8\n",
    "* IVF_PQ\n",
    "* GPU_IVF_FLAT\n",
    "* GPU_IVF_PQ\n",
    "* HNSW\n",
    "* DISKANN"
   ]
  },
  {
   "cell_type": "markdown",
   "id": "608fa2f7",
   "metadata": {},
   "source": [
    "For binary vectors, we can use Jaccard distance and Hamming distance.\n",
    "\n",
    "**Metric Types**\n",
    "* Jaccard (JACCARD)\n",
    "* Hamming (HAMMING)\n",
    "\n",
    "**Index Types**\n",
    "* BIN_FLAT\n",
    "* BIN_IVF_FLAT"
   ]
  },
  {
   "cell_type": "markdown",
   "id": "fbebcda9",
   "metadata": {},
   "source": [
    "For sparse embeddings;\n",
    "\n",
    "**Metric Types**\n",
    "* IP\t\n",
    "\n",
    "**Index Types**\n",
    "* SPARSE_INVERTED_INDEX\n",
    "* SPARSE_WAND"
   ]
  },
  {
   "cell_type": "markdown",
   "id": "4db05a11",
   "metadata": {},
   "source": [
    "Similarity Metrics: https://milvus.io/docs/metric.md#sparse\n",
    "\n",
    "In-memory Index: https://milvus.io/docs/index.md"
   ]
  },
  {
   "cell_type": "markdown",
   "id": "ad963302",
   "metadata": {},
   "source": [
    "It is recommended to create indexes for both the vector field and scalar fields that are frequently accessed."
   ]
  },
  {
   "cell_type": "markdown",
   "id": "2e4b749a",
   "metadata": {},
   "source": [
    "These metrics are used to compare the vectors and find how much they are similar to each other."
   ]
  },
  {
   "cell_type": "code",
   "execution_count": 9,
   "id": "9c2bcecd-ccc6-4fa0-a4ad-9e0eb888e71d",
   "metadata": {},
   "outputs": [
    {
     "data": {
      "text/plain": [
       "Status(code=0, message=)"
      ]
     },
     "execution_count": 9,
     "metadata": {},
     "output_type": "execute_result"
    }
   ],
   "source": [
    "index_params = {\n",
    "  \"metric_type\":\"L2\",\n",
    "  \"index_type\":\"IVF_SQ8\",\n",
    "  \"params\":{\"nlist\":64},\n",
    "  \"index_name\": \"vector_index\"\n",
    "}\n",
    "collection.create_index(\n",
    "  field_name=\"song_vec\", \n",
    "  index_params=index_params\n",
    ")\n"
   ]
  },
  {
   "cell_type": "code",
   "execution_count": 10,
   "id": "88da8cb1-667b-4333-895a-7cda7bf7c188",
   "metadata": {},
   "outputs": [
    {
     "name": "stdout",
     "output_type": "stream",
     "text": [
      "[{'metric_type': 'L2', 'index_type': 'IVF_SQ8', 'params': {'nlist': 64}, 'index_name': 'vector_index'}]\n"
     ]
    }
   ],
   "source": [
    "print([index.params for index in collection.indexes])"
   ]
  },
  {
   "cell_type": "markdown",
   "id": "8c8661ce",
   "metadata": {},
   "source": [
    "We can also build an index on scalar fields, and while building an index on scalar fields, we are not required to specify any index parameters by default. Milvus can decide the index type depending on the data type of that particular scalar field."
   ]
  },
  {
   "cell_type": "code",
   "execution_count": 11,
   "id": "7374f15a-60cb-493f-89d0-ce9e09d30361",
   "metadata": {},
   "outputs": [
    {
     "data": {
      "text/plain": [
       "Status(code=0, message=)"
      ]
     },
     "execution_count": 11,
     "metadata": {},
     "output_type": "execute_result"
    }
   ],
   "source": [
    "# index on scalar field\n",
    "\n",
    "collection.create_index(\n",
    "  field_name=\"song_name\", \n",
    "  index_type=\"INVERTED\",\n",
    "  index_name=\"scalar_index_song_name\",\n",
    ")"
   ]
  },
  {
   "cell_type": "code",
   "execution_count": 12,
   "id": "3d4bb7de-f2fd-4494-888c-4d1eaeb3957f",
   "metadata": {},
   "outputs": [],
   "source": [
    "# Drop Index\n",
    "collection.drop_index(index_name=\"vector_index\")"
   ]
  },
  {
   "cell_type": "code",
   "execution_count": null,
   "id": "d74f3009-655c-4872-b32a-1163aaf9d2bc",
   "metadata": {},
   "outputs": [],
   "source": []
  }
 ],
 "metadata": {
  "kernelspec": {
   "display_name": "Python 3 (ipykernel)",
   "language": "python",
   "name": "python3"
  },
  "language_info": {
   "codemirror_mode": {
    "name": "ipython",
    "version": 3
   },
   "file_extension": ".py",
   "mimetype": "text/x-python",
   "name": "python",
   "nbconvert_exporter": "python",
   "pygments_lexer": "ipython3",
   "version": "3.9.13"
  }
 },
 "nbformat": 4,
 "nbformat_minor": 5
}
