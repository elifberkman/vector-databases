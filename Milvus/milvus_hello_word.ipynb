{
 "cells": [
  {
   "cell_type": "code",
   "execution_count": 1,
   "id": "2947ace6-3200-4171-bb05-4bf7e5c9436e",
   "metadata": {},
   "outputs": [],
   "source": [
    "from pymilvus import connections, utility"
   ]
  },
  {
   "cell_type": "code",
   "execution_count": 2,
   "id": "314a1b5b-c38d-4301-b93b-4cef3185a658",
   "metadata": {},
   "outputs": [],
   "source": [
    "# connections.connect(\n",
    "#   alias=\"default\",\n",
    "#   user='username',\n",
    "#   password='password',\n",
    "#   host='localhost',\n",
    "#   port='19530'\n",
    "# )"
   ]
  },
  {
   "cell_type": "code",
   "execution_count": 3,
   "id": "ef9d0cab-2359-41b4-b353-f773c98197ce",
   "metadata": {},
   "outputs": [],
   "source": [
    "connections.connect(\n",
    "  alias=\"default\",\n",
    "  host='localhost',\n",
    "  port='19530'\n",
    ")"
   ]
  },
  {
   "cell_type": "code",
   "execution_count": 4,
   "id": "945a6da0-96c5-4218-8f5d-d25dffd2cba4",
   "metadata": {},
   "outputs": [
    {
     "data": {
      "text/plain": [
       "[]"
      ]
     },
     "execution_count": 4,
     "metadata": {},
     "output_type": "execute_result"
    }
   ],
   "source": [
    "utility.list_collections()"
   ]
  },
  {
   "cell_type": "code",
   "execution_count": null,
   "id": "78e395ab-197c-4b65-b3aa-c1f3f268e4ce",
   "metadata": {},
   "outputs": [],
   "source": []
  }
 ],
 "metadata": {
  "kernelspec": {
   "display_name": "Python 3 (ipykernel)",
   "language": "python",
   "name": "python3"
  },
  "language_info": {
   "codemirror_mode": {
    "name": "ipython",
    "version": 3
   },
   "file_extension": ".py",
   "mimetype": "text/x-python",
   "name": "python",
   "nbconvert_exporter": "python",
   "pygments_lexer": "ipython3",
   "version": "3.11.2"
  }
 },
 "nbformat": 4,
 "nbformat_minor": 5
}
