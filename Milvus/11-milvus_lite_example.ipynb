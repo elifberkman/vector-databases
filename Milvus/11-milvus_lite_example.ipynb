{
 "cells": [
  {
   "cell_type": "markdown",
   "id": "c9093678",
   "metadata": {},
   "source": [
    "# Milvus Lite"
   ]
  },
  {
   "cell_type": "markdown",
   "id": "18506d77",
   "metadata": {},
   "source": [
    "Milvus Lite is the lightweight version of Milvus, an open-source vector database that powers AI applications with vector embeddings and similarity search.\n",
    "\n",
    "Milvus Lite can be imported into your Python application, providing the core vector search functionality of Milvus. Milvus Lite is included in the Python SDK of Milvus, thus it can be simply deployed with pip install pymilvus. This repo contains the core components of Milvus Lite."
   ]
  },
  {
   "cell_type": "code",
   "execution_count": 1,
   "id": "d6004c80-97b9-4f43-acf6-7cd71a2bbd28",
   "metadata": {},
   "outputs": [
    {
     "name": "stdout",
     "output_type": "stream",
     "text": [
      "Requirement already satisfied: milvus in d:\\study\\vector databases\\milvus\\.venv\\lib\\site-packages (2.2.16)\n"
     ]
    }
   ],
   "source": [
    "!pip install milvus\n",
    "from milvus import default_server\n",
    "from pymilvus import connections, utility"
   ]
  },
  {
   "cell_type": "code",
   "execution_count": 2,
   "id": "44dd7b9d-68f2-4bdf-a918-ce01c19f4304",
   "metadata": {},
   "outputs": [],
   "source": [
    "# Start the server\n",
    "default_server.start()\n",
    "\n",
    "# Connect to the milvus lite server using pymilvus\n",
    "connections.connect(host='127.0.0.1', port=default_server.listen_port)"
   ]
  },
  {
   "cell_type": "code",
   "execution_count": 3,
   "id": "4002b576-ea71-422f-b4a2-e2a0a564e667",
   "metadata": {},
   "outputs": [
    {
     "name": "stdout",
     "output_type": "stream",
     "text": [
      "v2.2.16-lite\n"
     ]
    }
   ],
   "source": [
    "# Get the server version\n",
    "print(utility.get_server_version())"
   ]
  },
  {
   "cell_type": "code",
   "execution_count": 4,
   "id": "f4b6948e-8259-46aa-a31f-f20029c3edc2",
   "metadata": {},
   "outputs": [
    {
     "name": "stdout",
     "output_type": "stream",
     "text": [
      "[]\n"
     ]
    }
   ],
   "source": [
    "# Get the collections\n",
    "print(utility.list_collections())"
   ]
  },
  {
   "cell_type": "code",
   "execution_count": 5,
   "id": "fd9db082-09c2-4ad5-bc39-f1ba8ca049b6",
   "metadata": {},
   "outputs": [],
   "source": [
    "# Stop the server\n",
    "default_server.stop()\n"
   ]
  },
  {
   "cell_type": "code",
   "execution_count": 6,
   "id": "835135b4-9307-46a3-8dfa-f5f11f4d3ad4",
   "metadata": {},
   "outputs": [],
   "source": [
    "# Cleanup the server\n",
    "default_server.cleanup()"
   ]
  }
 ],
 "metadata": {
  "kernelspec": {
   "display_name": "Python 3 (ipykernel)",
   "language": "python",
   "name": "python3"
  },
  "language_info": {
   "codemirror_mode": {
    "name": "ipython",
    "version": 3
   },
   "file_extension": ".py",
   "mimetype": "text/x-python",
   "name": "python",
   "nbconvert_exporter": "python",
   "pygments_lexer": "ipython3",
   "version": "3.9.13"
  }
 },
 "nbformat": 4,
 "nbformat_minor": 5
}
